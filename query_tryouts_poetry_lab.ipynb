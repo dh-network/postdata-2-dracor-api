{
 "cells": [
  {
   "cell_type": "markdown",
   "id": "b05eca81",
   "metadata": {},
   "source": [
    "# DraCor Postdata Middle-Ware Tyouts\n",
    "\n",
    "**Live-Version**: This notebook can operate on POSTDATAs Stardog instance and was derived from the `query_tryouts.ipynb`, which worked with a local Triple store.\n",
    "\n",
    "POSTDATA data uses named graphs for \"Scansions\" therefore the queries needed to be adapted."
   ]
  },
  {
   "cell_type": "code",
   "execution_count": 3,
   "id": "41c10b1f",
   "metadata": {},
   "outputs": [],
   "source": [
    "#use the official stardog package: https://pystardog.readthedocs.io/en/latest/\n",
    "import stardog"
   ]
  },
  {
   "cell_type": "code",
   "execution_count": 4,
   "id": "bb12f755",
   "metadata": {},
   "outputs": [],
   "source": [
    "#libraries, that are in the pystardog notebook; used to render the results as pd dataframes (maybe don't need them later)\n",
    "import io\n",
    "import pandas as pd"
   ]
  },
  {
   "cell_type": "markdown",
   "id": "f6fa65ef",
   "metadata": {},
   "source": [
    "The queries and functions below where developed against a local installation of stardog. I tested them with connecting to POSTDATA's Poetry Lab Triple Store. Some worked, others faild. Look at the designated notebook for the implementation with Poetry Lab."
   ]
  },
  {
   "cell_type": "markdown",
   "id": "957a625d",
   "metadata": {},
   "source": [
    "## Connect to stardog"
   ]
  },
  {
   "cell_type": "code",
   "execution_count": 5,
   "id": "e431f8a6",
   "metadata": {},
   "outputs": [],
   "source": [
    "import json"
   ]
  },
  {
   "cell_type": "code",
   "execution_count": 6,
   "id": "87faf502",
   "metadata": {},
   "outputs": [],
   "source": [
    "#local use: config.local.json\n",
    "#poetrylab: config.poetrylab.json\n",
    "\n",
    "#config_file = \"config.local.json\"\n",
    "config_file = \"config.poetrylab.json\"\n",
    "\n",
    "with open(config_file) as f:\n",
    "    config = json.load(f)"
   ]
  },
  {
   "cell_type": "code",
   "execution_count": 7,
   "id": "24ca4272",
   "metadata": {},
   "outputs": [],
   "source": [
    "usr = config[\"server\"][\"credentials\"][\"user\"]\n",
    "pwd = config[\"server\"][\"credentials\"][\"password\"]\n",
    "\n",
    "endpoint = config[\"server\"][\"protocol\"] + \"://\" +  config[\"server\"][\"url\"] + \":\" + config[\"server\"][\"port\"]"
   ]
  },
  {
   "cell_type": "code",
   "execution_count": 8,
   "id": "231f8daf",
   "metadata": {},
   "outputs": [],
   "source": [
    "#as in the pystardog notebook https://github.com/stardog-union/pystardog/blob/develop/notebooks/tutorial.ipynb\n",
    "connection_details = {\n",
    "  'endpoint': endpoint,\n",
    "  'username': usr,\n",
    "  'password': pwd\n",
    "}"
   ]
  },
  {
   "cell_type": "code",
   "execution_count": 9,
   "id": "12b65b66",
   "metadata": {},
   "outputs": [],
   "source": [
    "database_name = config[\"server\"][\"database\"]"
   ]
  },
  {
   "cell_type": "code",
   "execution_count": 10,
   "id": "e06339c5",
   "metadata": {},
   "outputs": [],
   "source": [
    "#connection_details"
   ]
  },
  {
   "cell_type": "code",
   "execution_count": 11,
   "id": "b4d3c3f2",
   "metadata": {},
   "outputs": [],
   "source": [
    "conn = stardog.Connection(database_name, **connection_details)"
   ]
  },
  {
   "cell_type": "markdown",
   "id": "7c957c01",
   "metadata": {},
   "source": [
    "## Simple Test"
   ]
  },
  {
   "cell_type": "code",
   "execution_count": 12,
   "id": "98497170",
   "metadata": {},
   "outputs": [],
   "source": [
    "query = \"\"\"\n",
    "SELECT * WHERE {\n",
    "  ?s ?p ?o\n",
    "}\n",
    "LIMIT 10\n",
    "\"\"\""
   ]
  },
  {
   "cell_type": "code",
   "execution_count": 13,
   "id": "59d0c3cd",
   "metadata": {},
   "outputs": [
    {
     "data": {
      "text/html": [
       "<div>\n",
       "<style scoped>\n",
       "    .dataframe tbody tr th:only-of-type {\n",
       "        vertical-align: middle;\n",
       "    }\n",
       "\n",
       "    .dataframe tbody tr th {\n",
       "        vertical-align: top;\n",
       "    }\n",
       "\n",
       "    .dataframe thead th {\n",
       "        text-align: right;\n",
       "    }\n",
       "</style>\n",
       "<table border=\"1\" class=\"dataframe\">\n",
       "  <thead>\n",
       "    <tr style=\"text-align: right;\">\n",
       "      <th></th>\n",
       "      <th>s</th>\n",
       "      <th>p</th>\n",
       "      <th>o</th>\n",
       "    </tr>\n",
       "  </thead>\n",
       "  <tbody>\n",
       "    <tr>\n",
       "      <th>0</th>\n",
       "      <td>http://postdata.linhd.uned.es/resource/sc_juan...</td>\n",
       "      <td>http://postdata.linhd.uned.es/ontology/postdat...</td>\n",
       "      <td>http://postdata.linhd.uned.es/A_juana-ines-de-...</td>\n",
       "    </tr>\n",
       "    <tr>\n",
       "      <th>1</th>\n",
       "      <td>http://postdata.linhd.uned.es/resource/sp_juan...</td>\n",
       "      <td>http://postdata.linhd.uned.es/ontology/postdat...</td>\n",
       "      <td>http://postdata.linhd.uned.es/resource/sc_juan...</td>\n",
       "    </tr>\n",
       "    <tr>\n",
       "      <th>2</th>\n",
       "      <td>http://postdata.linhd.uned.es/kos/automaticsca...</td>\n",
       "      <td>http://www.w3.org/1999/02/22-rdf-syntax-ns#type</td>\n",
       "      <td>http://www.w3.org/2004/02/skos/core#Concept</td>\n",
       "    </tr>\n",
       "    <tr>\n",
       "      <th>3</th>\n",
       "      <td>http://postdata.linhd.uned.es/kos/AutomaticAnn...</td>\n",
       "      <td>http://www.w3.org/1999/02/22-rdf-syntax-ns#type</td>\n",
       "      <td>http://www.w3.org/2004/02/skos/core#Concept</td>\n",
       "    </tr>\n",
       "    <tr>\n",
       "      <th>4</th>\n",
       "      <td>http://postdata.linhd.uned.es/resource/sc_juan...</td>\n",
       "      <td>http://postdata.linhd.uned.es/ontology/postdat...</td>\n",
       "      <td>http://postdata.linhd.uned.es/M_juana-ines-de-...</td>\n",
       "    </tr>\n",
       "  </tbody>\n",
       "</table>\n",
       "</div>"
      ],
      "text/plain": [
       "                                                   s  \\\n",
       "0  http://postdata.linhd.uned.es/resource/sc_juan...   \n",
       "1  http://postdata.linhd.uned.es/resource/sp_juan...   \n",
       "2  http://postdata.linhd.uned.es/kos/automaticsca...   \n",
       "3  http://postdata.linhd.uned.es/kos/AutomaticAnn...   \n",
       "4  http://postdata.linhd.uned.es/resource/sc_juan...   \n",
       "\n",
       "                                                   p  \\\n",
       "0  http://postdata.linhd.uned.es/ontology/postdat...   \n",
       "1  http://postdata.linhd.uned.es/ontology/postdat...   \n",
       "2    http://www.w3.org/1999/02/22-rdf-syntax-ns#type   \n",
       "3    http://www.w3.org/1999/02/22-rdf-syntax-ns#type   \n",
       "4  http://postdata.linhd.uned.es/ontology/postdat...   \n",
       "\n",
       "                                                   o  \n",
       "0  http://postdata.linhd.uned.es/A_juana-ines-de-...  \n",
       "1  http://postdata.linhd.uned.es/resource/sc_juan...  \n",
       "2        http://www.w3.org/2004/02/skos/core#Concept  \n",
       "3        http://www.w3.org/2004/02/skos/core#Concept  \n",
       "4  http://postdata.linhd.uned.es/M_juana-ines-de-...  "
      ]
     },
     "execution_count": 13,
     "metadata": {},
     "output_type": "execute_result"
    }
   ],
   "source": [
    "csv_results = conn.select(query, content_type='text/csv')\n",
    "df = pd.read_csv(io.BytesIO(csv_results))\n",
    "df.head()"
   ]
  },
  {
   "cell_type": "code",
   "execution_count": 14,
   "id": "d45b9786",
   "metadata": {},
   "outputs": [],
   "source": [
    "#to get a dictionary instead\n",
    "#query_results = conn.select(query)\n",
    "#type(query_results)"
   ]
  },
  {
   "cell_type": "code",
   "execution_count": 15,
   "id": "9d17452d",
   "metadata": {},
   "outputs": [],
   "source": [
    "#to clean the connection\n",
    "#conn.__exit__()"
   ]
  },
  {
   "cell_type": "markdown",
   "id": "9e6d142b",
   "metadata": {},
   "source": [
    "## Named Graphs\n",
    "POSTDATA uses named graphs for \"Scansions\".\n",
    "Use to check:\n",
    "```\n",
    "PREFIX rdf: <http://www.w3.org/1999/02/22-rdf-syntax-ns#>\n",
    "PREFIX rdfs: <http://www.w3.org/2000/01/rdf-schema#>\n",
    "SELECT DISTINCT ?g WHERE {\n",
    "\tGRAPH ?g { ?sub ?pred ?obj .}\n",
    "} LIMIT 10\n",
    "```"
   ]
  },
  {
   "cell_type": "markdown",
   "id": "b832a7c1",
   "metadata": {},
   "source": [
    "## Helper Functions\n",
    "Setup functions to query and parse the results (e.g. as pd dataframe)."
   ]
  },
  {
   "cell_type": "code",
   "execution_count": 16,
   "id": "aa4e1bfd",
   "metadata": {},
   "outputs": [],
   "source": [
    "def sparql(query, parse=False):\n",
    "    \"\"\"\n",
    "    Helper function to send a SPARQL query to the Stardog (should have a connection `conn` established).\n",
    "    The optional parameter `parse` can be used to get a padas dataframe back. \n",
    "    \"\"\"\n",
    "    if parse:\n",
    "        csv_results = conn.select(query, content_type='text/csv')\n",
    "        df = pd.read_csv(io.BytesIO(csv_results))\n",
    "        return df\n",
    "    else:\n",
    "        results = conn.select(query)\n",
    "        return results"
   ]
  },
  {
   "cell_type": "code",
   "execution_count": 17,
   "id": "2e602a24",
   "metadata": {},
   "outputs": [],
   "source": [
    "#inject <$> to queries\n",
    "def replace_placeholder(query,uri):\n",
    "    \"\"\"Replaces the placeholder in a query.\n",
    "    \"\"\"\n",
    "    placeholder = \"$\"\n",
    "    return query.replace(placeholder,uri)"
   ]
  },
  {
   "cell_type": "markdown",
   "id": "efe24c17",
   "metadata": {},
   "source": [
    "## Query the Postdata Knowledge Graph\n",
    "I played around in Stardog Studio and came up with some queries. These need to be tested here and then eventually wrapped in functions to be used in an API."
   ]
  },
  {
   "cell_type": "markdown",
   "id": "49def82e",
   "metadata": {},
   "source": [
    "### poeticWorks"
   ]
  },
  {
   "cell_type": "markdown",
   "id": "baedc0f2",
   "metadata": {},
   "source": [
    "#### List all works\n",
    "\n",
    "A \"poeticWork\" is of the class `http://postdata.linhd.uned.es/ontology/postdata-core#PoeticWork`."
   ]
  },
  {
   "cell_type": "code",
   "execution_count": 18,
   "id": "6a45b7b8",
   "metadata": {},
   "outputs": [],
   "source": [
    "query = \"\"\"\n",
    "PREFIX pdc: <http://postdata.linhd.uned.es/ontology/postdata-core#>\n",
    "\n",
    "SELECT ?work ?title WHERE {\n",
    "    ?work a pdc:PoeticWork ;\n",
    "          pdc:title ?title.\n",
    "}\n",
    "LIMIT 1000000\n",
    "\"\"\"\n",
    "# by default stardog returns 1.000 results only; need to set a LIMIT that exceeds the number of works expected "
   ]
  },
  {
   "cell_type": "code",
   "execution_count": 19,
   "id": "90e2573c",
   "metadata": {},
   "outputs": [],
   "source": [
    "#use the helper function to send the query\n",
    "results = sparql(query,parse=True)"
   ]
  },
  {
   "cell_type": "code",
   "execution_count": 20,
   "id": "9f9af110",
   "metadata": {},
   "outputs": [
    {
     "data": {
      "text/plain": [
       "pandas.core.frame.DataFrame"
      ]
     },
     "execution_count": 20,
     "metadata": {},
     "output_type": "execute_result"
    }
   ],
   "source": [
    "type(results)"
   ]
  },
  {
   "cell_type": "code",
   "execution_count": 21,
   "id": "766b54e7",
   "metadata": {},
   "outputs": [
    {
     "data": {
      "text/plain": [
       "10081"
      ]
     },
     "execution_count": 21,
     "metadata": {},
     "output_type": "execute_result"
    }
   ],
   "source": [
    "len(results)"
   ]
  },
  {
   "cell_type": "code",
   "execution_count": 22,
   "id": "a9abc79e",
   "metadata": {},
   "outputs": [
    {
     "data": {
      "text/html": [
       "<div>\n",
       "<style scoped>\n",
       "    .dataframe tbody tr th:only-of-type {\n",
       "        vertical-align: middle;\n",
       "    }\n",
       "\n",
       "    .dataframe tbody tr th {\n",
       "        vertical-align: top;\n",
       "    }\n",
       "\n",
       "    .dataframe thead th {\n",
       "        text-align: right;\n",
       "    }\n",
       "</style>\n",
       "<table border=\"1\" class=\"dataframe\">\n",
       "  <thead>\n",
       "    <tr style=\"text-align: right;\">\n",
       "      <th></th>\n",
       "      <th>work</th>\n",
       "      <th>title</th>\n",
       "    </tr>\n",
       "  </thead>\n",
       "  <tbody>\n",
       "    <tr>\n",
       "      <th>0</th>\n",
       "      <td>http://postdata.linhd.uned.es/resource/pw_juan...</td>\n",
       "      <td>Sabrás, querido Fabio</td>\n",
       "    </tr>\n",
       "    <tr>\n",
       "      <th>1</th>\n",
       "      <td>http://postdata.linhd.uned.es/resource/pw_juan...</td>\n",
       "      <td>Silvio, tu opinión va errada</td>\n",
       "    </tr>\n",
       "    <tr>\n",
       "      <th>2</th>\n",
       "      <td>http://postdata.linhd.uned.es/resource/pw_juan...</td>\n",
       "      <td>Hombres necios que acusáis</td>\n",
       "    </tr>\n",
       "    <tr>\n",
       "      <th>3</th>\n",
       "      <td>http://postdata.linhd.uned.es/resource/pw_juan...</td>\n",
       "      <td>Si acaso, Fabio mío</td>\n",
       "    </tr>\n",
       "    <tr>\n",
       "      <th>4</th>\n",
       "      <td>http://postdata.linhd.uned.es/resource/pw_juan...</td>\n",
       "      <td>Mientras la gracia me excita</td>\n",
       "    </tr>\n",
       "  </tbody>\n",
       "</table>\n",
       "</div>"
      ],
      "text/plain": [
       "                                                work  \\\n",
       "0  http://postdata.linhd.uned.es/resource/pw_juan...   \n",
       "1  http://postdata.linhd.uned.es/resource/pw_juan...   \n",
       "2  http://postdata.linhd.uned.es/resource/pw_juan...   \n",
       "3  http://postdata.linhd.uned.es/resource/pw_juan...   \n",
       "4  http://postdata.linhd.uned.es/resource/pw_juan...   \n",
       "\n",
       "                          title  \n",
       "0         Sabrás, querido Fabio  \n",
       "1  Silvio, tu opinión va errada  \n",
       "2    Hombres necios que acusáis  \n",
       "3           Si acaso, Fabio mío  \n",
       "4  Mientras la gracia me excita  "
      ]
     },
     "execution_count": 22,
     "metadata": {},
     "output_type": "execute_result"
    }
   ],
   "source": [
    "results.head()"
   ]
  },
  {
   "cell_type": "code",
   "execution_count": 23,
   "id": "44322763",
   "metadata": {},
   "outputs": [
    {
     "data": {
      "text/plain": [
       "'http://postdata.linhd.uned.es/resource/pw_juana-ines-de-la-cruz_sabras-querido-fabio'"
      ]
     },
     "execution_count": 23,
     "metadata": {},
     "output_type": "execute_result"
    }
   ],
   "source": [
    "# a simple uri of a work\n",
    "results[\"work\"][0]"
   ]
  },
  {
   "cell_type": "markdown",
   "id": "15752735",
   "metadata": {},
   "source": [
    "#### Works, Titles and Authors (Creators in the WorkConception)\n",
    "A \"poeticWork\" \"isRealisedThrough\" `<http://postdata.linhd.uned.es/ontology/postdata-core#isRealisedThrough>` a `<http://postdata.linhd.uned.es/ontology/postdata-core#WorkConception>`. \"WorkConception\".\n",
    "\n",
    "This \"WorkConception\" has a \"AgentRole \"`<http://postdata.linhd.uned.es/ontology/postdata-core#hasAgentRole>`; the property \"hasAgentRole\" connects it to a \"AgentRole\" `<http://postdata.linhd.uned.es/ontology/postdata-core#AgentRole>`.\n",
    "\n",
    "\"AgentRole\" can be classified with \"<http://postdata.linhd.uned.es/ontology/postdata-core#roleFunction>\" which links to the KOS, e.g. `<http://postdata.linhd.uned.es/kos/Creator>`. (This one should be used for the author).\n",
    "\n",
    "The Autor is connected to the \"AgentRole\" with the property \"hasAgent\" `<http://postdata.linhd.uned.es/ontology/postdata-core#hasAgent>`.\n",
    "\n",
    "\"Agent\" is a <http://postdata.linhd.uned.es/ontology/postdata-core#Person> .\n",
    "The \"Agent\" `pdc:name` has a Name (Literal!)."
   ]
  },
  {
   "cell_type": "code",
   "execution_count": 24,
   "id": "c97c0a46",
   "metadata": {},
   "outputs": [],
   "source": [
    "query = \"\"\"\n",
    "PREFIX pdc: <http://postdata.linhd.uned.es/ontology/postdata-core#>\n",
    "\n",
    "SELECT ?Work ?Title ?Agent ?Name WHERE {\n",
    "    ?Work a pdc:PoeticWork ;\n",
    "        pdc:title ?Title .\n",
    "    \n",
    "    OPTIONAL { \n",
    "        ?Work pdc:wasInitiatedBy ?WorkConception .\n",
    "        \n",
    "        ?WorkConception pdc:hasAgentRole ?AgentRole .\n",
    "        \n",
    "        ?AgentRole pdc:roleFunction <http://postdata.linhd.uned.es/kos/Creator> ; \n",
    "                   pdc:hasAgent ?Agent .\n",
    "        \n",
    "        ?Agent pdc:name ?Name .\n",
    "    }\n",
    "}\n",
    "LIMIT 1000000\n",
    "\"\"\""
   ]
  },
  {
   "cell_type": "code",
   "execution_count": 25,
   "id": "502a90af",
   "metadata": {},
   "outputs": [
    {
     "data": {
      "text/html": [
       "<div>\n",
       "<style scoped>\n",
       "    .dataframe tbody tr th:only-of-type {\n",
       "        vertical-align: middle;\n",
       "    }\n",
       "\n",
       "    .dataframe tbody tr th {\n",
       "        vertical-align: top;\n",
       "    }\n",
       "\n",
       "    .dataframe thead th {\n",
       "        text-align: right;\n",
       "    }\n",
       "</style>\n",
       "<table border=\"1\" class=\"dataframe\">\n",
       "  <thead>\n",
       "    <tr style=\"text-align: right;\">\n",
       "      <th></th>\n",
       "      <th>Work</th>\n",
       "      <th>Title</th>\n",
       "      <th>Agent</th>\n",
       "      <th>Name</th>\n",
       "    </tr>\n",
       "  </thead>\n",
       "  <tbody>\n",
       "    <tr>\n",
       "      <th>0</th>\n",
       "      <td>http://postdata.linhd.uned.es/resource/pw_juan...</td>\n",
       "      <td>Sabrás, querido Fabio</td>\n",
       "      <td>http://postdata.linhd.uned.es/resource/p_juana...</td>\n",
       "      <td>Juana Inés de la Cruz</td>\n",
       "    </tr>\n",
       "    <tr>\n",
       "      <th>1</th>\n",
       "      <td>http://postdata.linhd.uned.es/resource/pw_juan...</td>\n",
       "      <td>Sabrás, querido Fabio</td>\n",
       "      <td>http://postdata.linhd.uned.es/resource/p_juana...</td>\n",
       "      <td>Juana Ines de La Cruz</td>\n",
       "    </tr>\n",
       "    <tr>\n",
       "      <th>2</th>\n",
       "      <td>http://postdata.linhd.uned.es/resource/pw_juan...</td>\n",
       "      <td>Silvio, tu opinión va errada</td>\n",
       "      <td>http://postdata.linhd.uned.es/resource/p_juana...</td>\n",
       "      <td>Juana Inés de la Cruz</td>\n",
       "    </tr>\n",
       "    <tr>\n",
       "      <th>3</th>\n",
       "      <td>http://postdata.linhd.uned.es/resource/pw_juan...</td>\n",
       "      <td>Silvio, tu opinión va errada</td>\n",
       "      <td>http://postdata.linhd.uned.es/resource/p_juana...</td>\n",
       "      <td>Juana Ines de La Cruz</td>\n",
       "    </tr>\n",
       "    <tr>\n",
       "      <th>4</th>\n",
       "      <td>http://postdata.linhd.uned.es/resource/pw_juan...</td>\n",
       "      <td>Hombres necios que acusáis</td>\n",
       "      <td>http://postdata.linhd.uned.es/resource/p_juana...</td>\n",
       "      <td>Juana Inés de la Cruz</td>\n",
       "    </tr>\n",
       "  </tbody>\n",
       "</table>\n",
       "</div>"
      ],
      "text/plain": [
       "                                                Work  \\\n",
       "0  http://postdata.linhd.uned.es/resource/pw_juan...   \n",
       "1  http://postdata.linhd.uned.es/resource/pw_juan...   \n",
       "2  http://postdata.linhd.uned.es/resource/pw_juan...   \n",
       "3  http://postdata.linhd.uned.es/resource/pw_juan...   \n",
       "4  http://postdata.linhd.uned.es/resource/pw_juan...   \n",
       "\n",
       "                          Title  \\\n",
       "0         Sabrás, querido Fabio   \n",
       "1         Sabrás, querido Fabio   \n",
       "2  Silvio, tu opinión va errada   \n",
       "3  Silvio, tu opinión va errada   \n",
       "4    Hombres necios que acusáis   \n",
       "\n",
       "                                               Agent                   Name  \n",
       "0  http://postdata.linhd.uned.es/resource/p_juana...  Juana Inés de la Cruz  \n",
       "1  http://postdata.linhd.uned.es/resource/p_juana...  Juana Ines de La Cruz  \n",
       "2  http://postdata.linhd.uned.es/resource/p_juana...  Juana Inés de la Cruz  \n",
       "3  http://postdata.linhd.uned.es/resource/p_juana...  Juana Ines de La Cruz  \n",
       "4  http://postdata.linhd.uned.es/resource/p_juana...  Juana Inés de la Cruz  "
      ]
     },
     "execution_count": 25,
     "metadata": {},
     "output_type": "execute_result"
    }
   ],
   "source": [
    "results = sparql(query,parse=True)\n",
    "results.head()"
   ]
  },
  {
   "cell_type": "code",
   "execution_count": 26,
   "id": "919fbbad",
   "metadata": {},
   "outputs": [
    {
     "data": {
      "text/plain": [
       "10384"
      ]
     },
     "execution_count": 26,
     "metadata": {},
     "output_type": "execute_result"
    }
   ],
   "source": [
    "len(results)"
   ]
  },
  {
   "cell_type": "markdown",
   "id": "89946026",
   "metadata": {},
   "source": [
    "Obviously, there are no poems with more than one author. But this could happen, so maybe the query needs to be adapted."
   ]
  },
  {
   "cell_type": "markdown",
   "id": "6f3a35a6",
   "metadata": {},
   "source": [
    "#### Author(s) of a given PoeticWork\n",
    "\n",
    "Adapted query of the one above to get the authors by a given PoeticWork."
   ]
  },
  {
   "cell_type": "code",
   "execution_count": 27,
   "id": "4476878b",
   "metadata": {},
   "outputs": [],
   "source": [
    "query = \"\"\"\n",
    "PREFIX pdc: <http://postdata.linhd.uned.es/ontology/postdata-core#>\n",
    "\n",
    "SELECT ?Agent ?Name WHERE {\n",
    "    <$> a pdc:PoeticWork ;\n",
    "        pdc:wasInitiatedBy ?WorkConception .\n",
    "        \n",
    "        ?WorkConception pdc:hasAgentRole ?AgentRole .\n",
    "        \n",
    "        ?AgentRole pdc:roleFunction <http://postdata.linhd.uned.es/kos/Creator> ; \n",
    "                   pdc:hasAgent ?Agent .\n",
    "        \n",
    "        OPTIONAL {\n",
    "            ?Agent pdc:name ?Name .\n",
    "        }\n",
    "}\n",
    "\"\"\""
   ]
  },
  {
   "cell_type": "code",
   "execution_count": 28,
   "id": "6aab9dac",
   "metadata": {},
   "outputs": [
    {
     "name": "stdout",
     "output_type": "stream",
     "text": [
      "\n",
      "PREFIX pdc: <http://postdata.linhd.uned.es/ontology/postdata-core#>\n",
      "\n",
      "SELECT ?Agent ?Name WHERE {\n",
      "    <http://postdata.linhd.uned.es/resource/pw_juana-ines-de-la-cruz_sabras-querido-fabio> a pdc:PoeticWork ;\n",
      "        pdc:wasInitiatedBy ?WorkConception .\n",
      "        \n",
      "        ?WorkConception pdc:hasAgentRole ?AgentRole .\n",
      "        \n",
      "        ?AgentRole pdc:roleFunction <http://postdata.linhd.uned.es/kos/Creator> ; \n",
      "                   pdc:hasAgent ?Agent .\n",
      "        \n",
      "        OPTIONAL {\n",
      "            ?Agent pdc:name ?Name .\n",
      "        }\n",
      "}\n",
      "\n"
     ]
    }
   ],
   "source": [
    "uri = \"http://postdata.linhd.uned.es/resource/pw_juana-ines-de-la-cruz_sabras-querido-fabio\"\n",
    "print(replace_placeholder(query,uri))\n",
    "results = sparql(replace_placeholder(query,uri))"
   ]
  },
  {
   "cell_type": "code",
   "execution_count": 29,
   "id": "9fcea643",
   "metadata": {},
   "outputs": [
    {
     "data": {
      "text/plain": [
       "{'head': {'vars': ['Agent', 'Name']},\n",
       " 'results': {'bindings': [{'Agent': {'type': 'uri',\n",
       "     'value': 'http://postdata.linhd.uned.es/resource/p_juana-ines-de-la-cruz'},\n",
       "    'Name': {'type': 'literal', 'value': 'Juana Inés de la Cruz'}},\n",
       "   {'Agent': {'type': 'uri',\n",
       "     'value': 'http://postdata.linhd.uned.es/resource/p_juana-ines-de-la-cruz'},\n",
       "    'Name': {'type': 'literal', 'value': 'Juana Ines de La Cruz'}}]}}"
      ]
     },
     "execution_count": 29,
     "metadata": {},
     "output_type": "execute_result"
    }
   ],
   "source": [
    "results"
   ]
  },
  {
   "cell_type": "markdown",
   "id": "056dccce",
   "metadata": {},
   "source": [
    "An endpoint to get creators of a poem `/corpora/{corpus}/poems/{poem}/authors` could return something along the lines of DraCor API `https://dracor.org/api/corpora/{corpus}/play/{play}`:\n",
    "\n",
    "```\n",
    "\"authors\": [\n",
    "    {\n",
    "      \"name\": \"Lessing, Gotthold Ephraim\",\n",
    "      \"fullname\": \"Gotthold Ephraim Lessing\",\n",
    "      \"shortname\": \"Lessing\",\n",
    "      \"refs\": [\n",
    "        {\n",
    "          \"ref\": \"Q34628\",\n",
    "          \"type\": \"wikidata\"\n",
    "        },\n",
    "        {\n",
    "          \"ref\": \"118572121\",\n",
    "          \"type\": \"pnd\"\n",
    "        }\n",
    "      ]\n",
    "    }\n",
    "  ]\n",
    "```"
   ]
  },
  {
   "cell_type": "markdown",
   "id": "99998deb",
   "metadata": {},
   "source": [
    "### Additional Info on a person\n",
    "```\n",
    "<http://postdata.linhd.uned.es/ontology/postdata-core#diedIn>\n",
    "<http://postdata.linhd.uned.es/ontology/postdata-core#wasBorn>\n",
    "```\n",
    "from person to ?o .\n",
    "\n",
    "* `pdc:diedIn`\n",
    "* `pdc:wasBorn`\n",
    "* `rdfs:label`\n",
    "* `pdc:hasEducation`\n",
    "* `pdc:ethnicity`\n",
    "* `pdc:portrait`\n",
    "* `<http://www.w3.org/2002/07/owl#sameAs>`\n",
    "* `pdc:article`\n",
    "* `pdc:description`\n",
    "* `pdc:hasOccupation`\n",
    "* `pdc:movement`\n",
    "* `pdc:religiousAffiliation`\n",
    "* `pdc:gender`\n",
    "* `pdc:genre`\n",
    "\n",
    "inverse:\n",
    "* `pdc:hasAgent`\n",
    "* `pdc:broughtIntoLife`\n",
    "* `pdc:wasDeathOf`\n",
    "\n",
    "Birth and Death follow the CIDOC patterns:\n",
    "\n",
    "\n",
    "* `pdc:hasTimeSpan`\n",
    "* `pdc:tookPlaceAt`"
   ]
  },
  {
   "cell_type": "markdown",
   "id": "4a3dc2a4",
   "metadata": {},
   "source": [
    "```\n",
    "SELECT ?person ?sameAs FROM <tag:stardog:api:context:local> WHERE {\n",
    "  ?person a pdc:Person ;\n",
    "  \towl:sameAs ?sameAs . \t\n",
    "}\n",
    "```\n",
    "this is the link to wikidata, but only for 10 instances.\n",
    "\n",
    "This is also true for `pdc:article` (which returns 20 instances, but english and spanish links), so probably, the same, yes:\n",
    "\n",
    "```\n",
    "SELECT ?person ?article ?wikidata FROM <tag:stardog:api:context:local> WHERE {\n",
    "  ?person a pdc:Person ;\n",
    "  \tpdc:article ?article ;\n",
    "   owl:sameAs ?wikidata.\n",
    "}\n",
    "```\n",
    "\n",
    "There is more information on Birth and Death..."
   ]
  },
  {
   "cell_type": "markdown",
   "id": "f0f64e4d",
   "metadata": {},
   "source": [
    "#### Wikidata\n",
    "\n",
    "in DraCor:\n",
    "```\n",
    "\"refs\": [\n",
    "            {\n",
    "              \"ref\": \"Q2497099\",\n",
    "              \"type\": \"wikidata\"\n",
    "            }\n",
    "        ]\n",
    "```"
   ]
  },
  {
   "cell_type": "code",
   "execution_count": 30,
   "id": "e2ab4ce4",
   "metadata": {},
   "outputs": [],
   "source": [
    "def wikidata_uri_of_person(person_uri:str) -> str:\n",
    "    \"\"\"Get the WIKIDATA URI of a Person\"\"\"\n",
    "    \n",
    "    query = \"\"\"\n",
    "    PREFIX pdc: <http://postdata.linhd.uned.es/ontology/postdata-core#>\n",
    "    PREFIX owl: <http://www.w3.org/2002/07/owl#>\n",
    "\n",
    "    SELECT * FROM <tag:stardog:api:context:local> WHERE {\n",
    "      <$> a pdc:Person ;\n",
    "      owl:sameAs ?wikidata .\n",
    "    }\n",
    "    \"\"\"\n",
    "    sparql_results = sparql(replace_placeholder(query,person_uri))\n",
    "    \n",
    "    bindings = sparql_results[\"results\"][\"bindings\"]\n",
    "    \n",
    "    if len(bindings) == 1:\n",
    "        if bindings[0][\"wikidata\"][\"value\"].startswith(\"http://www.wikidata.org/entity/\"):\n",
    "            return bindings[0][\"wikidata\"][\"value\"]\n",
    "        \n",
    "    else:\n",
    "        return None\n",
    "    "
   ]
  },
  {
   "cell_type": "code",
   "execution_count": 31,
   "id": "1283c37d",
   "metadata": {},
   "outputs": [
    {
     "data": {
      "text/plain": [
       "'http://www.wikidata.org/entity/Q165257'"
      ]
     },
     "execution_count": 31,
     "metadata": {},
     "output_type": "execute_result"
    }
   ],
   "source": [
    "person_uri = \"http://postdata.linhd.uned.es/resource/p_lope-de-vega\"\n",
    "wikidata_uri_of_person(person_uri)"
   ]
  },
  {
   "cell_type": "code",
   "execution_count": 32,
   "id": "e80a0ba8",
   "metadata": {},
   "outputs": [
    {
     "name": "stdout",
     "output_type": "stream",
     "text": [
      "None\n"
     ]
    }
   ],
   "source": [
    "print(wikidata_uri_of_person(\"http://postdata.linhd.uned.es/resource/p_juana-ines-de-la-cruz\"))"
   ]
  },
  {
   "cell_type": "code",
   "execution_count": 33,
   "id": "1d15b5d9",
   "metadata": {},
   "outputs": [],
   "source": [
    "def wikidata_uri_to_author_ref(uri:str) -> dict:\n",
    "    \"\"\"Helper Function to generate the ref for the refs of an author\"\"\"\n",
    "    if uri != None and \"http://www.wikidata.org/entity/\" in uri :\n",
    "        wd = uri.replace(\"http://www.wikidata.org/entity/\",\"\")\n",
    "        ref = {\n",
    "            \"ref\" : wd ,\n",
    "            \"type\" : \"wikidata\"\n",
    "            }\n",
    "        return ref\n",
    "        "
   ]
  },
  {
   "cell_type": "code",
   "execution_count": 34,
   "id": "faaee471",
   "metadata": {},
   "outputs": [
    {
     "data": {
      "text/plain": [
       "{'ref': 'Q165257', 'type': 'wikidata'}"
      ]
     },
     "execution_count": 34,
     "metadata": {},
     "output_type": "execute_result"
    }
   ],
   "source": [
    "wikidata_uri_to_author_ref(wikidata_uri_of_person(person_uri))"
   ]
  },
  {
   "cell_type": "code",
   "execution_count": 35,
   "id": "c704cc05",
   "metadata": {},
   "outputs": [],
   "source": [
    "#if there is no wikidata uri\n",
    "wikidata_uri_to_author_ref(wikidata_uri_of_person(\"http://postdata.linhd.uned.es/resource/p_juana-ines-de-la-cruz\"))"
   ]
  },
  {
   "cell_type": "code",
   "execution_count": 36,
   "id": "2e6cae00",
   "metadata": {},
   "outputs": [],
   "source": [
    "def get_authors_of_poem(poem_uri:str, include_wikidata=False) -> list:\n",
    "    \"\"\"Get the autors \n",
    "    Returns the agents in an AgentRole with the roleFunction of \"creator\".\n",
    "    \n",
    "    Args:\n",
    "        poem_uri (str): URI of a poeticWork\n",
    "    Returns:\n",
    "        list: List of dictionaries containg information on author name and id = uri.\n",
    "    \"\"\"\n",
    "    #needed to group it because for some poemes, e.g. http://postdata.linhd.uned.es/resource/pw_juana-ines-de-la-cruz_sabras-querido-fabio it returned the author several times \n",
    "    \n",
    "    query = \"\"\"\n",
    "        PREFIX pdc: <http://postdata.linhd.uned.es/ontology/postdata-core#>\n",
    "\n",
    "        SELECT ?Agent (SAMPLE(?PersName) AS ?Name)  WHERE {\n",
    "            <$> a pdc:PoeticWork ;\n",
    "            pdc:wasInitiatedBy ?WorkConception .\n",
    "        \n",
    "            ?WorkConception pdc:hasAgentRole ?AgentRole .\n",
    "        \n",
    "            ?AgentRole pdc:roleFunction <http://postdata.linhd.uned.es/kos/Creator> ; \n",
    "                   pdc:hasAgent ?Agent .\n",
    "        \n",
    "            OPTIONAL {\n",
    "                ?Agent pdc:name ?PersName .\n",
    "            }\n",
    "    }\n",
    "    GROUP BY ?Agent\n",
    "    \"\"\"\n",
    "    sparql_results = sparql(replace_placeholder(query,poem_uri))\n",
    "    \n",
    "    authors = []\n",
    "    for binding in sparql_results[\"results\"][\"bindings\"]:\n",
    "        author = {}\n",
    "        author[\"name\"] = binding[\"Name\"][\"value\"]\n",
    "        author[\"uri\"] = binding[\"Agent\"][\"value\"]        \n",
    "        \n",
    "        if include_wikidata == True:\n",
    "            try:\n",
    "                wikidata = wikidata_uri_of_person(author[\"uri\"])\n",
    "                if wikidata != None:\n",
    "                    author[\"refs\"] = []\n",
    "                    author[\"refs\"].append(wikidata_uri_to_author_ref(wikidata))\n",
    "            except:\n",
    "                pass\n",
    "        authors.append(author)\n",
    "        \n",
    "    \n",
    "    return authors"
   ]
  },
  {
   "cell_type": "code",
   "execution_count": 37,
   "id": "95b1993d",
   "metadata": {},
   "outputs": [
    {
     "name": "stdout",
     "output_type": "stream",
     "text": [
      "CPU times: user 2.6 ms, sys: 1.12 ms, total: 3.72 ms\n",
      "Wall time: 150 ms\n"
     ]
    },
    {
     "data": {
      "text/plain": [
       "[{'name': 'Juana Ines de La Cruz',\n",
       "  'uri': 'http://postdata.linhd.uned.es/resource/p_juana-ines-de-la-cruz'}]"
      ]
     },
     "execution_count": 37,
     "metadata": {},
     "output_type": "execute_result"
    }
   ],
   "source": [
    "%%time\n",
    "get_authors_of_poem(uri)"
   ]
  },
  {
   "cell_type": "markdown",
   "id": "522a52f8",
   "metadata": {},
   "source": [
    "I don't know why this returns the same author twice. \n",
    "\n",
    "OK, there is spelling variance: \n",
    "```\n",
    "2\n",
    "<http://postdata.linhd.uned.es/ontology/postdata-core#name>\n",
    "Juana Inés de la Cruz\n",
    "3\n",
    "<http://postdata.linhd.uned.es/ontology/postdata-core#name>\n",
    "Juana Ines de La Cruz\n",
    "```"
   ]
  },
  {
   "cell_type": "code",
   "execution_count": 38,
   "id": "3d7d3122",
   "metadata": {},
   "outputs": [
    {
     "name": "stdout",
     "output_type": "stream",
     "text": [
      "CPU times: user 3.84 ms, sys: 1.32 ms, total: 5.15 ms\n",
      "Wall time: 252 ms\n"
     ]
    },
    {
     "data": {
      "text/plain": [
       "[{'name': 'Juana Inés de la Cruz',\n",
       "  'uri': 'http://postdata.linhd.uned.es/resource/p_juana-ines-de-la-cruz'}]"
      ]
     },
     "execution_count": 38,
     "metadata": {},
     "output_type": "execute_result"
    }
   ],
   "source": [
    "%%time\n",
    "get_authors_of_poem(uri,include_wikidata=True)"
   ]
  },
  {
   "cell_type": "code",
   "execution_count": 39,
   "id": "e2e48557",
   "metadata": {},
   "outputs": [
    {
     "name": "stdout",
     "output_type": "stream",
     "text": [
      "CPU times: user 3.81 ms, sys: 1.44 ms, total: 5.25 ms\n",
      "Wall time: 247 ms\n"
     ]
    },
    {
     "data": {
      "text/plain": [
       "[{'name': 'Lope de Vega',\n",
       "  'uri': 'http://postdata.linhd.uned.es/resource/p_lope-de-vega',\n",
       "  'refs': [{'ref': 'Q165257', 'type': 'wikidata'}]}]"
      ]
     },
     "execution_count": 39,
     "metadata": {},
     "output_type": "execute_result"
    }
   ],
   "source": [
    "%%time\n",
    "get_authors_of_poem(\"http://postdata.linhd.uned.es/resource/pw_lope-de-vega_1-al-sujeto-de-la-dama-que-le-dijo-dios-le-provea\",include_wikidata=True)"
   ]
  },
  {
   "cell_type": "markdown",
   "id": "f91382b3",
   "metadata": {},
   "source": [
    "### Authors\n",
    "There is an endpoint in the official API to get authors, I wouldn't really have to replicate that. Still, I need a list auf authors to use in OpenRefine."
   ]
  },
  {
   "cell_type": "code",
   "execution_count": 174,
   "id": "2793a763",
   "metadata": {},
   "outputs": [],
   "source": [
    "def get_authors(corpus=None) -> list:\n",
    "    \"\"\"Get a list of authors.\n",
    "    \n",
    "    Authors (Actors/Persons) are only counted if they are \n",
    "    connected to a \"WorkConception\" in the \"ActorRole\" with the function \"creator\".\n",
    "        \n",
    "    TODO: handle multiple corpora\n",
    "    \"\"\"\n",
    "    \n",
    "    query = \"\"\"\n",
    "    PREFIX pdc: <http://postdata.linhd.uned.es/ontology/postdata-core#>\n",
    "\n",
    "    SELECT DISTINCT ?Agent (SAMPLE(?Name) AS ?Name) (SAMPLE(?BirthDate) AS ?BirthDate) (SAMPLE(?BirthPlace) AS ?BirthPlace) (SAMPLE(?DeathDate) AS ?DeathDate) (SAMPLE(?DeathPlace) AS ?DeathPlace) FROM <tag:stardog:api:context:local> WHERE {\n",
    "        ?WorkConception a pdc:WorkConception ;\n",
    "            pdc:hasAgentRole ?AgentRole .\n",
    "        \n",
    "        ?AgentRole pdc:roleFunction <http://postdata.linhd.uned.es/kos/Creator> ; \n",
    "            pdc:hasAgent ?Agent .\n",
    "  \n",
    " \t OPTIONAL {\n",
    "    \t?Agent pdc:name ?Name .\n",
    "  \t}\n",
    "  OPTIONAL {\n",
    "  \t?Agent pdc:wasBorn ?Birth.\n",
    "    OPTIONAL {\n",
    "    ?Birth pdc:hasTimeSpan ?BirthTS.\n",
    "    ?BirthTS pdc:date ?BirthDate .\n",
    "    }\n",
    "    OPTIONAL {\n",
    "    ?Birth pdc:tookPlaceAt ?BirthPlace.\n",
    "    }\n",
    "  }\n",
    "  \n",
    "  OPTIONAL {\n",
    "  \t?Agent pdc:diedIn ?Death.\n",
    "    OPTIONAL {\n",
    "    ?Death pdc:hasTimeSpan ?DeathTS.\n",
    "    ?DeathTS pdc:date ?DeathDate .\n",
    "    }\n",
    "    OPTIONAL {\n",
    "    ?Death pdc:tookPlaceAt ?DeathPlace.\n",
    "    }\n",
    "  }\n",
    "  \n",
    "    }\n",
    "    GROUP BY ?Agent\n",
    "    LIMIT 1000000\n",
    "    \"\"\"\n",
    "    \n",
    "    sparql_results = sparql(query)\n",
    "    authors = []\n",
    "    for binding in sparql_results[\"results\"][\"bindings\"]:\n",
    "        author = {}\n",
    "        author[\"uri\"] = binding[\"Agent\"][\"value\"]\n",
    "        author[\"name\"] = binding[\"Name\"][\"value\"]\n",
    "        if \"BirthDate\" in binding:\n",
    "            author[\"birthDate\"] = binding[\"BirthDate\"][\"value\"].replace(\"T00:00:00Z\",\"\")\n",
    "        if \"BirthPlace\" in binding:\n",
    "            author[\"birthPlace\"] =  {}\n",
    "            author[\"birthPlace\"][\"ref\"] = binding[\"BirthPlace\"][\"value\"].replace(\"http://www.wikidata.org/entity/\",\"\")\n",
    "            author[\"birthPlace\"][\"type\"] = \"wikidata\"\n",
    "        if \"DeathDate\" in binding:\n",
    "            author[\"deathDate\"] = binding[\"DeathDate\"][\"value\"].replace(\"T00:00:00Z\",\"\")\n",
    "        if \"DeathPlace\" in binding:\n",
    "            author[\"deathPlace\"] =  {}\n",
    "            author[\"deathPlace\"][\"ref\"] = binding[\"DeathPlace\"][\"value\"].replace(\"http://www.wikidata.org/entity/\",\"\")\n",
    "            author[\"deathPlace\"][\"type\"] = \"wikidata\"\n",
    "        authors.append(author)\n",
    "    return authors\n"
   ]
  },
  {
   "cell_type": "code",
   "execution_count": 177,
   "id": "ee4d3255",
   "metadata": {},
   "outputs": [],
   "source": [
    "all_authors = get_authors()"
   ]
  },
  {
   "cell_type": "code",
   "execution_count": 178,
   "id": "0097ed37",
   "metadata": {},
   "outputs": [
    {
     "data": {
      "text/plain": [
       "1192"
      ]
     },
     "execution_count": 178,
     "metadata": {},
     "output_type": "execute_result"
    }
   ],
   "source": [
    "len(all_authors)"
   ]
  },
  {
   "cell_type": "code",
   "execution_count": 179,
   "id": "41fa0f30",
   "metadata": {},
   "outputs": [],
   "source": [
    "#store the authors\n",
    "with open(\"authors.json\", \"w\", encoding='utf-8') as outfile:\n",
    "    json.dump(all_authors, outfile, ensure_ascii=False)"
   ]
  },
  {
   "cell_type": "markdown",
   "id": "aed642e7",
   "metadata": {},
   "source": [
    "### Information on a single corpus (the whole graph)\n",
    "DraCor's endpoint `/corpora` returns information on all corpora in the database. This endpoint is used to display the stats by setting the parameter `include=metrics`. See https://dracor.org/doc/api#/public/list-corpora. The data on a single corpus:\n",
    "\n",
    "```\n",
    "{\n",
    "    \"licence\": \"CC BY-NC 3.0\",\n",
    "    \"licenceUrl\": \"https://creativecommons.org/licenses/by-nc/3.0/deed.en_US\",\n",
    "    \"description\": \"Derived from the [Folger Shakespeare Library](https://shakespeare.folger.edu/). Enhancements documented in our [README at GitHub](https://github.com/dracor-org/shakedracor).\",\n",
    "    \"uri\": \"https://dracor.org/api/corpora/shake\",\n",
    "    \"title\": \"Shakespeare Drama Corpus\",\n",
    "    \"name\": \"shake\",\n",
    "    \"acronym\": \"ShakeDraCor\",\n",
    "    \"metrics\": {\n",
    "      \"plays\": 37,\n",
    "      \"characters\": 1433,\n",
    "      \"male\": 797,\n",
    "      \"female\": 116,\n",
    "      \"text\": 37,\n",
    "      \"sp\": 31066,\n",
    "      \"stage\": 10450,\n",
    "      \"wordcount\": {\n",
    "        \"text\": 908286,\n",
    "        \"sp\": 876744,\n",
    "        \"stage\": 41230\n",
    "      },\n",
    "      \"updated\": \"2022-07-02T23:36:24.109+02:00\"\n",
    "    },\n",
    "    \"repository\": \"https://github.com/dracor-org/shakedracor\"\n",
    "  }\n",
    "```\n",
    "We can not really list \"corpora\" in the POSTDATA Knowledge Graph because there is only one included, but stil we have to implement an endpoint that would provide information for the frontpage.\n",
    "\n",
    "We can at least provide some metrics, e.g.\n",
    "\n",
    "```\n",
    "\"metrics\": {\n",
    "      \"authors\" : 1,\n",
    "      \"poems\": 1,\n",
    "      \"stanzas\": 1,\n",
    "      \"verses\": 1,\n",
    "      \"words\" : 1\n",
    "      }\n",
    "```"
   ]
  },
  {
   "cell_type": "code",
   "execution_count": 40,
   "id": "35366afe",
   "metadata": {},
   "outputs": [],
   "source": [
    "def count_works(corpus=None) -> int:\n",
    "    \"\"\"Count poeticWorks in a corpus.\n",
    "    \n",
    "    Returns:\n",
    "        int: Number of poetic works/poems.\n",
    "        \n",
    "    TODO: handle multiple corpora\n",
    "    \"\"\"\n",
    "    \n",
    "    query = \"\"\"\n",
    "    PREFIX pdc: <http://postdata.linhd.uned.es/ontology/postdata-core#>\n",
    "    \n",
    "    SELECT (COUNT(?poeticWork) AS ?count) FROM <tag:stardog:api:context:local> WHERE {\n",
    "    ?poeticWork a pdc:PoeticWork .\n",
    "    } \n",
    "    LIMIT 1000000\n",
    "    \"\"\"\n",
    "    \n",
    "    sparql_results = sparql(query)\n",
    "    work_count = int(sparql_results[\"results\"][\"bindings\"][0][\"count\"][\"value\"])\n",
    "    \n",
    "    return work_count"
   ]
  },
  {
   "cell_type": "code",
   "execution_count": 41,
   "id": "83533e4b",
   "metadata": {},
   "outputs": [
    {
     "data": {
      "text/plain": [
       "10071"
      ]
     },
     "execution_count": 41,
     "metadata": {},
     "output_type": "execute_result"
    }
   ],
   "source": [
    "count_works()"
   ]
  },
  {
   "cell_type": "code",
   "execution_count": 42,
   "id": "1be2bab5",
   "metadata": {},
   "outputs": [],
   "source": [
    "def count_stanzas(corpus=None) -> int:\n",
    "    \"\"\"Count stanzas in a corpus.\n",
    "    \n",
    "    Returns:\n",
    "        int: Number of stanzas.\n",
    "        \n",
    "    TODO: handle multiple corpora\n",
    "    \"\"\"\n",
    "    \n",
    "    #For the production version we explicitly have to include the Union Graph with FROM to get results\n",
    "    query = \"\"\"\n",
    "    PREFIX pdp: <http://postdata.linhd.uned.es/ontology/postdata-poeticAnalysis#>\n",
    "    \n",
    "    SELECT (COUNT(?Stanza) AS ?count) FROM <tag:stardog:api:context:local> WHERE {\n",
    "        ?Stanza a pdp:Stanza .\n",
    "    }\n",
    "    \"\"\"\n",
    "    \n",
    "    sparql_results = sparql(query)\n",
    "    stanza_count = int(sparql_results[\"results\"][\"bindings\"][0][\"count\"][\"value\"])\n",
    "    return stanza_count"
   ]
  },
  {
   "cell_type": "code",
   "execution_count": 43,
   "id": "53bcdce3",
   "metadata": {},
   "outputs": [
    {
     "data": {
      "text/plain": [
       "81122"
      ]
     },
     "execution_count": 43,
     "metadata": {},
     "output_type": "execute_result"
    }
   ],
   "source": [
    "count_stanzas()"
   ]
  },
  {
   "cell_type": "code",
   "execution_count": 44,
   "id": "f3e7206b",
   "metadata": {},
   "outputs": [],
   "source": [
    "def count_verses(corpus=None) -> int:\n",
    "    \"\"\"Count verses/lines in a corpus.\n",
    "    \n",
    "    Returns:\n",
    "        int: Number of verselines.\n",
    "        \n",
    "    TODO: handle multiple corpora\n",
    "    \"\"\"\n",
    "    \n",
    "    query = \"\"\"\n",
    "    PREFIX pdp: <http://postdata.linhd.uned.es/ontology/postdata-poeticAnalysis#>\n",
    "    \n",
    "    SELECT (COUNT(?line) AS ?count) FROM <tag:stardog:api:context:local> WHERE {\n",
    "        ?line a pdp:Line .\n",
    "    } \n",
    "    LIMIT 1000000\n",
    "    \"\"\"\n",
    "    \n",
    "    sparql_results = sparql(query)\n",
    "    verses_count = int(sparql_results[\"results\"][\"bindings\"][0][\"count\"][\"value\"])\n",
    "    return verses_count"
   ]
  },
  {
   "cell_type": "code",
   "execution_count": 45,
   "id": "046ad4c4",
   "metadata": {},
   "outputs": [
    {
     "data": {
      "text/plain": [
       "544498"
      ]
     },
     "execution_count": 45,
     "metadata": {},
     "output_type": "execute_result"
    }
   ],
   "source": [
    "count_verses()"
   ]
  },
  {
   "cell_type": "code",
   "execution_count": 46,
   "id": "758d01bc",
   "metadata": {},
   "outputs": [],
   "source": [
    "def count_words(corpus=None) -> int:\n",
    "    \"\"\"Count words in a corpus.\n",
    "    \n",
    "    Returns:\n",
    "        int: Number of words.\n",
    "        \n",
    "    TODO: handle multiple corpora\n",
    "    \"\"\"\n",
    "    \n",
    "    query = \"\"\"\n",
    "    PREFIX pdp: <http://postdata.linhd.uned.es/ontology/postdata-poeticAnalysis#>\n",
    "    \n",
    "    SELECT (COUNT(?word) AS ?count) FROM <tag:stardog:api:context:local> WHERE {\n",
    "        ?word a <http://postdata.linhd.uned.es/ontology/postdata-poeticAnalysis#Word> .\n",
    "    } \n",
    "    LIMIT 1000000\n",
    "    \"\"\"\n",
    "    \n",
    "    sparql_results = sparql(query)\n",
    "    word_count = int(sparql_results[\"results\"][\"bindings\"][0][\"count\"][\"value\"])\n",
    "    return word_count"
   ]
  },
  {
   "cell_type": "code",
   "execution_count": 47,
   "id": "567bb1ad",
   "metadata": {},
   "outputs": [
    {
     "data": {
      "text/plain": [
       "2988230"
      ]
     },
     "execution_count": 47,
     "metadata": {},
     "output_type": "execute_result"
    }
   ],
   "source": [
    "count_words()"
   ]
  },
  {
   "cell_type": "markdown",
   "id": "2c3d6754",
   "metadata": {},
   "source": [
    "Syllables are different: There are \"GrammaticalSyllables\" `<http://postdata.linhd.uned.es/ontology/postdata-poeticAnalysis#GrammaticalSyllable>` and \"MetricalSyllables\" `<http://postdata.linhd.uned.es/ontology/postdata-poeticAnalysis#MetricalSyllable>`."
   ]
  },
  {
   "cell_type": "code",
   "execution_count": 48,
   "id": "56dcfa5b",
   "metadata": {},
   "outputs": [],
   "source": [
    "def count_metrical_syllables(corpus=None) -> int:\n",
    "    \"\"\"Count metrical syllables in a corpus.\n",
    "    \n",
    "    Returns:\n",
    "        int: number of metrical syllables\n",
    "    \"\"\"\n",
    "    \n",
    "    query = \"\"\"\n",
    "    PREFIX pdp: <http://postdata.linhd.uned.es/ontology/postdata-poeticAnalysis#>\n",
    "    \n",
    "    SELECT (COUNT(?syllable) AS ?count) FROM <tag:stardog:api:context:local> WHERE {\n",
    "        ?syllable a <http://postdata.linhd.uned.es/ontology/postdata-poeticAnalysis#MetricalSyllable> .\n",
    "    } \n",
    "    LIMIT 1000000\n",
    "    \"\"\"\n",
    "    \n",
    "    sparql_results = sparql(query)\n",
    "    syllable_count = int(sparql_results[\"results\"][\"bindings\"][0][\"count\"][\"value\"])\n",
    "    \n",
    "    return syllable_count\n",
    "    "
   ]
  },
  {
   "cell_type": "code",
   "execution_count": 49,
   "id": "0ee86a7b",
   "metadata": {},
   "outputs": [
    {
     "data": {
      "text/plain": [
       "1259036"
      ]
     },
     "execution_count": 49,
     "metadata": {},
     "output_type": "execute_result"
    }
   ],
   "source": [
    "count_metrical_syllables()"
   ]
  },
  {
   "cell_type": "code",
   "execution_count": 50,
   "id": "88490de2",
   "metadata": {},
   "outputs": [],
   "source": [
    "def count_grammatical_syllables(corpus=None) -> int:\n",
    "    \"\"\"Count grammatical syllables in a corpus.\n",
    "    \n",
    "    Returns:\n",
    "        int: number of gramamtical syllables\n",
    "    \"\"\"\n",
    "    \n",
    "    query = \"\"\"\n",
    "    PREFIX pdp: <http://postdata.linhd.uned.es/ontology/postdata-poeticAnalysis#>\n",
    "    \n",
    "    SELECT (COUNT(?syllable) AS ?count) FROM <tag:stardog:api:context:local> WHERE {\n",
    "        ?syllable a <http://postdata.linhd.uned.es/ontology/postdata-poeticAnalysis#GrammaticalSyllable> .\n",
    "    } \n",
    "    LIMIT 1000000\n",
    "    \"\"\"\n",
    "    \n",
    "    sparql_results = sparql(query)\n",
    "    syllable_count = int(sparql_results[\"results\"][\"bindings\"][0][\"count\"][\"value\"])\n",
    "    \n",
    "    return syllable_count"
   ]
  },
  {
   "cell_type": "code",
   "execution_count": 51,
   "id": "cdbbe7bc",
   "metadata": {},
   "outputs": [
    {
     "data": {
      "text/plain": [
       "2116388"
      ]
     },
     "execution_count": 51,
     "metadata": {},
     "output_type": "execute_result"
    }
   ],
   "source": [
    "count_grammatical_syllables()"
   ]
  },
  {
   "cell_type": "markdown",
   "id": "655ddff9",
   "metadata": {},
   "source": [
    "Authors (Actors/Persons) should only be counted if they are connected to a WorkConception in the ActorRole of creator. See above."
   ]
  },
  {
   "cell_type": "code",
   "execution_count": 52,
   "id": "6b80654d",
   "metadata": {},
   "outputs": [],
   "source": [
    "def count_authors(corpus=None) -> int:\n",
    "    \"\"\"Count authors in a corpus.\n",
    "    \n",
    "    Authors (Actors/Persons) are only counted if they are \n",
    "    connected to a \"WorkConception\" in the \"ActorRole\" with the function \"creator\".\n",
    "    \n",
    "    Returns:\n",
    "        int: Number of actors.\n",
    "        \n",
    "    TODO: handle multiple corpora\n",
    "    \"\"\"\n",
    "    \n",
    "    query = \"\"\"\n",
    "    PREFIX pdc: <http://postdata.linhd.uned.es/ontology/postdata-core#>\n",
    "\n",
    "    SELECT (COUNT(DISTINCT ?Agent) AS ?count) FROM <tag:stardog:api:context:local> WHERE {\n",
    "        ?WorkConception a pdc:WorkConception ;\n",
    "            pdc:hasAgentRole ?AgentRole .\n",
    "        \n",
    "        ?AgentRole pdc:roleFunction <http://postdata.linhd.uned.es/kos/Creator> ; \n",
    "            pdc:hasAgent ?Agent .\n",
    "    }\n",
    "    LIMIT 1000000\n",
    "    \"\"\"\n",
    "    \n",
    "    sparql_results = sparql(query)\n",
    "    authors_count = int(sparql_results[\"results\"][\"bindings\"][0][\"count\"][\"value\"])\n",
    "    return authors_count"
   ]
  },
  {
   "cell_type": "code",
   "execution_count": 53,
   "id": "fe5cccdc",
   "metadata": {},
   "outputs": [
    {
     "data": {
      "text/plain": [
       "1192"
      ]
     },
     "execution_count": 53,
     "metadata": {},
     "output_type": "execute_result"
    }
   ],
   "source": [
    "count_authors()"
   ]
  },
  {
   "cell_type": "markdown",
   "id": "2f56dbdb",
   "metadata": {},
   "source": [
    "#### Combine the corpus metrics"
   ]
  },
  {
   "cell_type": "code",
   "execution_count": 54,
   "id": "fa4999ec",
   "metadata": {},
   "outputs": [],
   "source": [
    "def get_corpus_metrics(corpus=None) -> dict:\n",
    "    \"\"\"Get metrics for a given corpus.\n",
    "    \n",
    "    Returns:\n",
    "        dict: corpus metrics\n",
    "    \"\"\"\n",
    "    \n",
    "    metrics = {}\n",
    "    metrics[\"authors\"] = count_authors(corpus)\n",
    "    metrics[\"poems\"] = count_works(corpus)\n",
    "    metrics[\"stanzas\"] = count_stanzas(corpus)\n",
    "    metrics[\"verses\"] = count_verses(corpus)\n",
    "    metrics[\"words\"] = count_words(corpus)\n",
    "    metrics[\"grammaticalSyllables\"] = count_grammatical_syllables(corpus)\n",
    "    metrics[\"metricalSyllables\"] = count_metrical_syllables(corpus)\n",
    "    \n",
    "    return metrics "
   ]
  },
  {
   "cell_type": "code",
   "execution_count": 55,
   "id": "8355724c",
   "metadata": {},
   "outputs": [
    {
     "name": "stdout",
     "output_type": "stream",
     "text": [
      "CPU times: user 9.68 ms, sys: 1.61 ms, total: 11.3 ms\n",
      "Wall time: 3.88 s\n"
     ]
    },
    {
     "data": {
      "text/plain": [
       "{'authors': 1192,\n",
       " 'poems': 10071,\n",
       " 'stanzas': 81122,\n",
       " 'verses': 544498,\n",
       " 'words': 2988230,\n",
       " 'grammaticalSyllables': 2116388,\n",
       " 'metricalSyllables': 1259036}"
      ]
     },
     "execution_count": 55,
     "metadata": {},
     "output_type": "execute_result"
    }
   ],
   "source": [
    "%%time\n",
    "get_corpus_metrics()"
   ]
  },
  {
   "cell_type": "markdown",
   "id": "d8d9d858",
   "metadata": {},
   "source": [
    "The numbers might be wrong because, if a poem has to scansions (which is almost always the case), I think, these overall queries will count them twice."
   ]
  },
  {
   "cell_type": "markdown",
   "id": "85a54062",
   "metadata": {},
   "source": [
    "#### Corpus info\n",
    "Because we don't really have metadata on the corpus, we fake this here for demonstrator purposes.\n",
    "\n",
    "DraCor example:\n",
    "```\n",
    "{\n",
    "    \"licence\": \"CC BY-NC 3.0\",\n",
    "    \"licenceUrl\": \"https://creativecommons.org/licenses/by-nc/3.0/deed.en_US\",\n",
    "    \"description\": \"Derived from the [Folger Shakespeare Library](https://shakespeare.folger.edu/). Enhancements documented in our [README at GitHub](https://github.com/dracor-org/shakedracor).\",\n",
    "    \"uri\": \"https://dracor.org/api/corpora/shake\",\n",
    "    \"title\": \"Shakespeare Drama Corpus\",\n",
    "    \"name\": \"shake\",\n",
    "    \"acronym\": \"ShakeDraCor\",\n",
    "    \"metrics\": {\n",
    "      \"plays\": 37,\n",
    "      \"characters\": 1433,\n",
    "      \"male\": 797,\n",
    "      \"female\": 116,\n",
    "      \"text\": 37,\n",
    "      \"sp\": 31066,\n",
    "      \"stage\": 10450,\n",
    "      \"wordcount\": {\n",
    "        \"text\": 908286,\n",
    "        \"sp\": 876744,\n",
    "        \"stage\": 41230\n",
    "      },\n",
    "      \"updated\": \"2022-07-02T23:36:24.109+02:00\"\n",
    "    },\n",
    "    \"repository\": \"https://github.com/dracor-org/shakedracor\"\n",
    "  }\n",
    "```"
   ]
  },
  {
   "cell_type": "code",
   "execution_count": 56,
   "id": "222c8f5c",
   "metadata": {},
   "outputs": [],
   "source": [
    "def get_corpus_info(corpus=None, metrics=False) -> dict:\n",
    "    \"\"\"Get information on a corpus\n",
    "    \n",
    "     Args:\n",
    "        corpus (optional): select a corpus (not implemented yet). defaults to None.\n",
    "        metrics (optional): include corpus metrics. defaults to False.    \n",
    "    Returns:\n",
    "        dict: information on the given corpus.\n",
    "    TODO: include more data (e.g. repository; see DraCor output)\n",
    "    \"\"\"\n",
    "    #we don't have a mechanism yet that allows for filtering of a corpus,\n",
    "    \n",
    "    \n",
    "    corpus_data = {}\n",
    "    \n",
    "    if corpus == None:\n",
    "        # corpus defaults to None --> get the default POSTDATA corpus\n",
    "        corpus_data[\"name\"] = \"postdata\"\n",
    "        corpus_data[\"title\"] = \"POSTDATA Corpus\"\n",
    "        corpus_data[\"description\"] = \"POSTDATA Knowledge Graph of Poetry. See https://postdata.linhd.uned.es\"\n",
    "    \n",
    "    if metrics == True:\n",
    "        corpus_data[\"metrics\"] = get_corpus_metrics(corpus)\n",
    "        \n",
    "    return corpus_data  "
   ]
  },
  {
   "cell_type": "code",
   "execution_count": 57,
   "id": "2aa49d32",
   "metadata": {},
   "outputs": [
    {
     "data": {
      "text/plain": [
       "{'name': 'postdata',\n",
       " 'title': 'POSTDATA Corpus',\n",
       " 'description': 'POSTDATA Knowledge Graph of Poetry. See https://postdata.linhd.uned.es',\n",
       " 'metrics': {'authors': 1192,\n",
       "  'poems': 10071,\n",
       "  'stanzas': 81122,\n",
       "  'verses': 544498,\n",
       "  'words': 2988230,\n",
       "  'grammaticalSyllables': 2116388,\n",
       "  'metricalSyllables': 1259036}}"
      ]
     },
     "execution_count": 57,
     "metadata": {},
     "output_type": "execute_result"
    }
   ],
   "source": [
    "get_corpus_info(metrics=True)"
   ]
  },
  {
   "cell_type": "markdown",
   "id": "7a00fddc",
   "metadata": {},
   "source": [
    "#### List of available corpora\n",
    "For the DraCor frontend (uses `/corpora` with param `include=metrics`) we need to have the on the corpora wrapped to an array even though we only have one corpus for the demonstrator."
   ]
  },
  {
   "cell_type": "code",
   "execution_count": 58,
   "id": "ff394a89",
   "metadata": {},
   "outputs": [],
   "source": [
    "def get_corpora(metrics=False) -> list:\n",
    "    \"\"\"Get a list of corpora\n",
    "    \n",
    "    Only one corpus is returned at the moment!\n",
    "    TODO: handle more corpora\n",
    "    \"\"\"\n",
    "    data = get_corpus_info(metrics=metrics)\n",
    "    \n",
    "    return [data]"
   ]
  },
  {
   "cell_type": "code",
   "execution_count": 59,
   "id": "74c19733",
   "metadata": {},
   "outputs": [
    {
     "data": {
      "text/plain": [
       "[{'name': 'postdata',\n",
       "  'title': 'POSTDATA Corpus',\n",
       "  'description': 'POSTDATA Knowledge Graph of Poetry. See https://postdata.linhd.uned.es',\n",
       "  'metrics': {'authors': 1192,\n",
       "   'poems': 10071,\n",
       "   'stanzas': 81122,\n",
       "   'verses': 544498,\n",
       "   'words': 2988230,\n",
       "   'grammaticalSyllables': 2116388,\n",
       "   'metricalSyllables': 1259036}}]"
      ]
     },
     "execution_count": 59,
     "metadata": {},
     "output_type": "execute_result"
    }
   ],
   "source": [
    "get_corpora(metrics=True)"
   ]
  },
  {
   "cell_type": "markdown",
   "id": "c6052891",
   "metadata": {},
   "source": [
    "### Data on a single Poem\n",
    "(as included in the list of poems returned by the DraCor `/corpora/{corpus}` endpoint)\n",
    "\n",
    "see DraCor example:\n",
    "```\n",
    "{\n",
    "      \"writtenYear\": \"1908\",\n",
    "      \"wikidataId\": \"Q25556355\",\n",
    "      \"source\": \"Татарская электронная библиотека\",\n",
    "      \"id\": \"tat000001\",\n",
    "      \"title\": \"Беренче театр\",\n",
    "      \"sourceUrl\": \"http://kitap.net.ru/galiaskar/2.php\",\n",
    "      \"networkSize\": \"7\",\n",
    "      \"name\": \"qamal-berenche-teatr\",\n",
    "      \"yearNormalized\": 1908,\n",
    "      \"printYear\": null,\n",
    "      \"subtitle\": \"Комедия 1 пәрдәдә\",\n",
    "      \"premiereYear\": null,\n",
    "      \"authors\": [\n",
    "        {\n",
    "          \"name\": \"Камал, Галиәсгар\",\n",
    "          \"fullname\": \"Галиәсгар Камал\",\n",
    "          \"shortname\": \"Камал\",\n",
    "          \"refs\": [\n",
    "            {\n",
    "              \"ref\": \"Q2497099\",\n",
    "              \"type\": \"wikidata\"\n",
    "            }\n",
    "          ],\n",
    "          \"fullnameEn\": \"Ğäliäsğar Kamal\",\n",
    "          \"nameEn\": \"Kamal, Ğäliäsğar\",\n",
    "          \"shortnameEn\": \"Kamal\",\n",
    "          \"alsoKnownAs\": [\n",
    "            \"Ğäliäsğar Kamal\"\n",
    "          ]\n",
    "        }\n",
    "      ],\n",
    "      \"networkdataCsvUrl\": \"https://dracor.org/api/corpora/tat/play/qamal-berenche-teatr/networkdata/csv\",\n",
    "      \"author\": {\n",
    "        \"name\": \"Камал, Галиәсгар\"\n",
    "      },\n",
    "      \"subtitleEn\": \"Comedy in 1 Act\",\n",
    "      \"titleEn\": \"First Theatre\"\n",
    "    }\n",
    "```"
   ]
  },
  {
   "cell_type": "code",
   "execution_count": 60,
   "id": "d1f59af4",
   "metadata": {},
   "outputs": [],
   "source": [
    "#we test with \n",
    "poem_uri = \"http://postdata.linhd.uned.es/resource/pw_juana-ines-de-la-cruz_sabras-querido-fabio\""
   ]
  },
  {
   "cell_type": "code",
   "execution_count": 61,
   "id": "2b446009",
   "metadata": {},
   "outputs": [],
   "source": [
    "#Function to get title of poem\n",
    "def get_poem_title(poem_uri:str) -> str:\n",
    "    \"\"\"Get the title of a poem\n",
    "    \n",
    "    Args:\n",
    "        poem_uri (str): URI of the poem\n",
    "    \n",
    "    Returns:\n",
    "        str: Title of the poem\n",
    "    \"\"\"\n",
    "    \n",
    "    query = \"\"\"\n",
    "    PREFIX pdc: <http://postdata.linhd.uned.es/ontology/postdata-core#>\n",
    "\n",
    "    SELECT ?title FROM <tag:stardog:api:context:local> WHERE {\n",
    "        <$> a pdc:PoeticWork ;\n",
    "            pdc:title ?title.\n",
    "    }\n",
    "    \"\"\"\n",
    "    \n",
    "    sparql_results = sparql(replace_placeholder(query,poem_uri))\n",
    "    title = str(sparql_results[\"results\"][\"bindings\"][0][\"title\"][\"value\"])\n",
    "    return title"
   ]
  },
  {
   "cell_type": "code",
   "execution_count": 62,
   "id": "d9a12d75",
   "metadata": {},
   "outputs": [
    {
     "data": {
      "text/plain": [
       "'Sabrás, querido Fabio'"
      ]
     },
     "execution_count": 62,
     "metadata": {},
     "output_type": "execute_result"
    }
   ],
   "source": [
    "get_poem_title(poem_uri)"
   ]
  },
  {
   "cell_type": "code",
   "execution_count": 182,
   "id": "1fb771a8",
   "metadata": {},
   "outputs": [],
   "source": [
    "def get_poem_creation_year(poem_uri:str) -> str:\n",
    "    \"\"\"Get the year attributed to the creation of the work\"\"\"\n",
    "    query = \"\"\"\n",
    "    PREFIX pdp: <http://postdata.linhd.uned.es/ontology/postdata-poeticAnalysis#>\n",
    "    PREFIX pdc: <http://postdata.linhd.uned.es/ontology/postdata-core#>\n",
    "\n",
    "    SELECT ?CreationDate FROM <tag:stardog:api:context:local> WHERE {\n",
    "        ?Creation pdc:initiated <$>;\n",
    "              pdc:hasTimeSpan ?ts.\n",
    "  \n",
    "      ?ts pdc:date ?CreationDate.\n",
    "    } \n",
    "    LIMIT 1000000\n",
    "    \"\"\"\n",
    "    #can be <http://www.w3.org/2001/XMLSchema#date> then somewhat valid\n",
    "    #unclear: ¿?, but also ¿Ca. 1580? or ¿1603? not sure, if these are all the available modifiers\n",
    "    #example, that works\n",
    "    #http://postdata.linhd.uned.es/resource/pw_gongora-luis-de_la-que-ya-fue-de-las-aves>\n",
    "    #this is unsure: <http://postdata.linhd.uned.es/resource/pw_gongora-luis-de_cantemos-a-la-jineta>\n",
    "    #maybe throw an exception?\n",
    "    \n",
    "    sparql_results = sparql(replace_placeholder(query,poem_uri))\n",
    "    date = sparql_results[\"results\"][\"bindings\"][0][\"CreationDate\"][\"value\"]\n",
    "    if \"?\" not in date:\n",
    "        year = date.split(\"-\")[0]\n",
    "        return year\n",
    "    "
   ]
  },
  {
   "cell_type": "markdown",
   "id": "07854c29",
   "metadata": {},
   "source": [
    "# CONTINUE HERE"
   ]
  },
  {
   "cell_type": "code",
   "execution_count": 183,
   "id": "050a54dc",
   "metadata": {},
   "outputs": [
    {
     "data": {
      "text/plain": [
       "'1611'"
      ]
     },
     "execution_count": 183,
     "metadata": {},
     "output_type": "execute_result"
    }
   ],
   "source": [
    "get_poem_creation_year(\"http://postdata.linhd.uned.es/resource/pw_gongora-luis-de_la-que-ya-fue-de-las-aves\")"
   ]
  },
  {
   "cell_type": "code",
   "execution_count": 63,
   "id": "50057770",
   "metadata": {},
   "outputs": [],
   "source": [
    "#Function to convert poem uri to postdata poetry lab link\n",
    "# this will be used in \"sourceUrl\" (which is somewhat wrong, but will do because it links back to poetry lab)\n",
    "\n",
    "def work_uri_to_poetry_lab_url(poem_uri:str) -> str:\n",
    "    \"\"\"Convert the URI of a poem into a link to poetry lab platform\n",
    "    \"\"\"\n",
    "    poetry_lab_base_url = \"http://poetry.linhd.uned.es:3000\" + \"/en/\"\n",
    "    \n",
    "    #In the Graph: http://postdata.linhd.uned.es/resource/pw_juana-ines-de-la-cruz_sabras-querido-fabio\n",
    "    # On the platform: http://poetry.linhd.uned.es:3000/es/author/juana-ines-de-la-cruz/poetic-work/sabras-querido-fabio\n",
    "    #Split on \"_\"\n",
    "    \n",
    "    author_part = poem_uri.split(\"_\")[1]\n",
    "    title_part = poem_uri.split(\"_\")[2]\n",
    "    \n",
    "    poetry_lab_url = poetry_lab_base_url + \"author/\" + author_part + \"/poetic-work/\" + title_part\n",
    "    \n",
    "    return poetry_lab_url"
   ]
  },
  {
   "cell_type": "code",
   "execution_count": 64,
   "id": "977ff555",
   "metadata": {},
   "outputs": [
    {
     "data": {
      "text/plain": [
       "'http://poetry.linhd.uned.es:3000/en/author/juana-ines-de-la-cruz/poetic-work/sabras-querido-fabio'"
      ]
     },
     "execution_count": 64,
     "metadata": {},
     "output_type": "execute_result"
    }
   ],
   "source": [
    "work_uri_to_poetry_lab_url(poem_uri)"
   ]
  },
  {
   "cell_type": "code",
   "execution_count": 65,
   "id": "f53e76c5",
   "metadata": {},
   "outputs": [],
   "source": [
    "#in DraCor we have id/uri and a name. Don't know if this is feasible\n",
    "def work_uri_to_poem_name(poem_uri:str) -> str:\n",
    "    \"\"\"Convert the URI to a local name consisting of author + \"_\" + \"title\"\n",
    "    \"\"\"\n",
    "    author_part = poem_uri.split(\"_\")[1]\n",
    "    title_part = poem_uri.split(\"_\")[2]\n",
    "    \n",
    "    poem_name = author_part + \"_\" + title_part\n",
    "    \n",
    "    return poem_name"
   ]
  },
  {
   "cell_type": "code",
   "execution_count": 66,
   "id": "758195a1",
   "metadata": {},
   "outputs": [
    {
     "data": {
      "text/plain": [
       "'juana-ines-de-la-cruz_sabras-querido-fabio'"
      ]
     },
     "execution_count": 66,
     "metadata": {},
     "output_type": "execute_result"
    }
   ],
   "source": [
    "work_uri_to_poem_name(poem_uri)"
   ]
  },
  {
   "cell_type": "code",
   "execution_count": 67,
   "id": "ede41234",
   "metadata": {},
   "outputs": [],
   "source": [
    "def poem_name_to_work_uri(poem_name:str) -> str:\n",
    "    \"\"\"Convert poem_name back to URI\"\"\"\n",
    "    uri = \"http://postdata.linhd.uned.es/resource/\" + \"pw_\" + poem_name\n",
    "    return uri"
   ]
  },
  {
   "cell_type": "code",
   "execution_count": 68,
   "id": "2645b555",
   "metadata": {},
   "outputs": [
    {
     "data": {
      "text/plain": [
       "'http://postdata.linhd.uned.es/resource/pw_juana-ines-de-la-cruz_sabras-querido-fabio'"
      ]
     },
     "execution_count": 68,
     "metadata": {},
     "output_type": "execute_result"
    }
   ],
   "source": [
    "poem_name_to_work_uri(\"juana-ines-de-la-cruz_sabras-querido-fabio\")"
   ]
  },
  {
   "cell_type": "code",
   "execution_count": 69,
   "id": "2033b3f1",
   "metadata": {},
   "outputs": [],
   "source": [
    "#have not tested this!\n",
    "def author_title_parts_to_poem_uri(author_part:str,title_part:str) -> str:\n",
    "    \"\"\"Concat author part and title part to poem URI\"\"\"\n",
    "    uri = \"http://postdata.linhd.uned.es/resource/\" + \"pw_\" + author_part + \"_\" + title_part\n",
    "    return uri\n",
    "    "
   ]
  },
  {
   "cell_type": "code",
   "execution_count": 70,
   "id": "0d97272e",
   "metadata": {},
   "outputs": [
    {
     "data": {
      "text/plain": [
       "'http://postdata.linhd.uned.es/resource/pw_juana-ines-de-la-cruz_sabras-querido-fabio'"
      ]
     },
     "execution_count": 70,
     "metadata": {},
     "output_type": "execute_result"
    }
   ],
   "source": [
    "author_title_parts_to_poem_uri(\"juana-ines-de-la-cruz\", \"sabras-querido-fabio\")"
   ]
  },
  {
   "cell_type": "code",
   "execution_count": 71,
   "id": "427892e1",
   "metadata": {},
   "outputs": [],
   "source": [
    "import hashlib\n",
    "def shorthash(textstring:str, chars:int=8):\n",
    "    \"\"\"Create a trunctated md5 hash\"\"\"\n",
    "    #set the number of characters to trunctate\n",
    "    hash = hashlib.sha1(textstring.encode(\"UTF-8\")).hexdigest()\n",
    "    shorthash = hash[:chars]\n",
    "    return shorthash"
   ]
  },
  {
   "cell_type": "code",
   "execution_count": 72,
   "id": "2b080b56",
   "metadata": {},
   "outputs": [
    {
     "data": {
      "text/plain": [
       "'572fb37a'"
      ]
     },
     "execution_count": 72,
     "metadata": {},
     "output_type": "execute_result"
    }
   ],
   "source": [
    "shorthash(poem_uri)"
   ]
  },
  {
   "cell_type": "code",
   "execution_count": 73,
   "id": "bb6cd5cd",
   "metadata": {},
   "outputs": [],
   "source": [
    "def poem_uri_to_id(poem_uri:str,prefix:str=\"pd\") -> str:\n",
    "    \"\"\"Generate an ID by hashing the uri\"\"\"\n",
    "    \"\"\n",
    "    return prefix + \"_\" + shorthash(poem_uri)"
   ]
  },
  {
   "cell_type": "code",
   "execution_count": 74,
   "id": "021cb0df",
   "metadata": {},
   "outputs": [
    {
     "data": {
      "text/plain": [
       "'pd_572fb37a'"
      ]
     },
     "execution_count": 74,
     "metadata": {},
     "output_type": "execute_result"
    }
   ],
   "source": [
    "poem_uri_to_id(poem_uri)"
   ]
  },
  {
   "cell_type": "code",
   "execution_count": 75,
   "id": "55aea25a",
   "metadata": {},
   "outputs": [],
   "source": [
    "# Dates might now be in the live version, could try to get additional info on authors and works\n",
    "\n",
    "# DATES ?"
   ]
  },
  {
   "cell_type": "code",
   "execution_count": 76,
   "id": "ef151986",
   "metadata": {},
   "outputs": [],
   "source": [
    "def get_poem_metadata(poem_uri:str, **kwargs) -> dict:\n",
    "    \"\"\"Get Metadata of a single poem.\n",
    "    \"\"\"\n",
    "    \n",
    "    poem_data = {}\n",
    "    #id is a trunctated md5 hash of the poem uri\n",
    "    poem_data[\"id\"] = poem_uri_to_id(poem_uri)\n",
    "    poem_data[\"uri\"] = poem_uri\n",
    "    \n",
    "    #don't know if this works; only for POSTDATA but assumes that the URIs are always structured the same way\n",
    "    poem_data[\"name\"] = work_uri_to_poem_name(poem_uri)\n",
    "    poem_data[\"title\"] = get_poem_title(poem_uri)\n",
    "    \n",
    "    #can include wikida with include_wikidata=True; might not be failproof\n",
    "    if kwargs and \"include_wikidata\" in kwargs:\n",
    "        poem_data[\"authors\"] = get_authors_of_poem(poem_uri, include_wikidata=kwargs[\"include_wikidata\"])\n",
    "    else:\n",
    "        poem_data[\"authors\"] = get_authors_of_poem(poem_uri)\n",
    "        \n",
    "    \n",
    "    \n",
    "    # this only works for postdata\n",
    "    poem_data[\"source\"] = \"POSTDATA Poetry Lab\"\n",
    "    poem_data[\"sourceUrl\"] = work_uri_to_poetry_lab_url(poem_uri)\n",
    "    \n",
    "    return poem_data"
   ]
  },
  {
   "cell_type": "code",
   "execution_count": 77,
   "id": "ea9aa4c7",
   "metadata": {},
   "outputs": [
    {
     "data": {
      "text/plain": [
       "{'id': 'pd_572fb37a',\n",
       " 'uri': 'http://postdata.linhd.uned.es/resource/pw_juana-ines-de-la-cruz_sabras-querido-fabio',\n",
       " 'name': 'juana-ines-de-la-cruz_sabras-querido-fabio',\n",
       " 'title': 'Sabrás, querido Fabio',\n",
       " 'authors': [{'name': 'Juana Ines de La Cruz',\n",
       "   'uri': 'http://postdata.linhd.uned.es/resource/p_juana-ines-de-la-cruz'}],\n",
       " 'source': 'POSTDATA Poetry Lab',\n",
       " 'sourceUrl': 'http://poetry.linhd.uned.es:3000/en/author/juana-ines-de-la-cruz/poetic-work/sabras-querido-fabio'}"
      ]
     },
     "execution_count": 77,
     "metadata": {},
     "output_type": "execute_result"
    }
   ],
   "source": [
    "#test this\n",
    "get_poem_metadata(poem_uri)"
   ]
  },
  {
   "cell_type": "code",
   "execution_count": 78,
   "id": "b7a1d1d3",
   "metadata": {},
   "outputs": [
    {
     "name": "stdout",
     "output_type": "stream",
     "text": [
      "CPU times: user 5 ms, sys: 1.44 ms, total: 6.44 ms\n",
      "Wall time: 270 ms\n"
     ]
    },
    {
     "data": {
      "text/plain": [
       "{'id': 'pd_0360be3e',\n",
       " 'uri': 'http://postdata.linhd.uned.es/resource/pw_lope-de-vega_1-al-sujeto-de-la-dama-que-le-dijo-dios-le-provea',\n",
       " 'name': 'lope-de-vega_1-al-sujeto-de-la-dama-que-le-dijo-dios-le-provea',\n",
       " 'title': '- 1 - Al sujeto de la dama que le dijo «Dios le provea» ',\n",
       " 'authors': [{'name': 'Lope de Vega',\n",
       "   'uri': 'http://postdata.linhd.uned.es/resource/p_lope-de-vega',\n",
       "   'refs': [{'ref': 'Q165257', 'type': 'wikidata'}]}],\n",
       " 'source': 'POSTDATA Poetry Lab',\n",
       " 'sourceUrl': 'http://poetry.linhd.uned.es:3000/en/author/lope-de-vega/poetic-work/1-al-sujeto-de-la-dama-que-le-dijo-dios-le-provea'}"
      ]
     },
     "execution_count": 78,
     "metadata": {},
     "output_type": "execute_result"
    }
   ],
   "source": [
    "%%time\n",
    "#with wikidata\n",
    "get_poem_metadata(\"http://postdata.linhd.uned.es/resource/pw_lope-de-vega_1-al-sujeto-de-la-dama-que-le-dijo-dios-le-provea\",include_wikidata=True)"
   ]
  },
  {
   "cell_type": "markdown",
   "id": "efcead52",
   "metadata": {},
   "source": [
    "### List of Works need by DraCor frontend\n",
    "\n",
    "To create a view like https://dracor.org/ger we need to create an response like the endpoint https://dracor.org/doc/api#/public/list-corpus-content\n",
    "\n",
    "```\n",
    "{\n",
    "  \"description\": \"Edited by Daniil Skorinkin and Frank Fischer. Features a handful of plays in Tatar language, provided through Tatar Electronic Library.\",\n",
    "  \"title\": \"Tatar Drama Corpus\",\n",
    "  \"repository\": \"https://github.com/dracor-org/tatdracor\",\n",
    "  \"name\": \"tat\",\n",
    "  \"dramas\": [\n",
    "    {\n",
    "      \"writtenYear\": \"1908\",\n",
    "      \"wikidataId\": \"Q25556355\",\n",
    "      \"source\": \"Татарская электронная библиотека\",\n",
    "      \"id\": \"tat000001\",\n",
    "      \"title\": \"Беренче театр\",\n",
    "      \"sourceUrl\": \"http://kitap.net.ru/galiaskar/2.php\",\n",
    "      \"networkSize\": \"7\",\n",
    "      \"name\": \"qamal-berenche-teatr\",\n",
    "      \"yearNormalized\": 1908,\n",
    "      \"printYear\": null,\n",
    "      \"subtitle\": \"Комедия 1 пәрдәдә\",\n",
    "      \"premiereYear\": null,\n",
    "      \"authors\": [\n",
    "        {\n",
    "          \"name\": \"Камал, Галиәсгар\",\n",
    "          \"fullname\": \"Галиәсгар Камал\",\n",
    "          \"shortname\": \"Камал\",\n",
    "          \"refs\": [\n",
    "            {\n",
    "              \"ref\": \"Q2497099\",\n",
    "              \"type\": \"wikidata\"\n",
    "            }\n",
    "          ],\n",
    "          \"fullnameEn\": \"Ğäliäsğar Kamal\",\n",
    "          \"nameEn\": \"Kamal, Ğäliäsğar\",\n",
    "          \"shortnameEn\": \"Kamal\",\n",
    "          \"alsoKnownAs\": [\n",
    "            \"Ğäliäsğar Kamal\"\n",
    "          ]\n",
    "        }\n",
    "      ],\n",
    "      \"networkdataCsvUrl\": \"https://dracor.org/api/corpora/tat/play/qamal-berenche-teatr/networkdata/csv\",\n",
    "      \"author\": {\n",
    "        \"name\": \"Камал, Галиәсгар\"\n",
    "      },\n",
    "      \"subtitleEn\": \"Comedy in 1 Act\",\n",
    "      \"titleEn\": \"First Theatre\"\n",
    "    }\n",
    "  ],\n",
    "  \"acronym\": \"TatDraCor\"\n",
    "}\n",
    "```"
   ]
  },
  {
   "cell_type": "code",
   "execution_count": 79,
   "id": "558c63c8",
   "metadata": {},
   "outputs": [],
   "source": [
    "def get_poem_uris(corpus=None) -> list:\n",
    "    \"\"\"Helper function to get a list of URIs of PoeticWorks\n",
    "    \"\"\"\n",
    "    query = \"\"\"\n",
    "    PREFIX pdc: <http://postdata.linhd.uned.es/ontology/postdata-core#>\n",
    "\n",
    "    SELECT ?work WHERE {\n",
    "        ?work a pdc:PoeticWork .\n",
    "    }\n",
    "    LIMIT 1000000\n",
    "    \"\"\"\n",
    "    \n",
    "    sparql_results = sparql(query)\n",
    "    bindings = sparql_results[\"results\"][\"bindings\"]\n",
    "    \n",
    "    poem_uris = []\n",
    "    \n",
    "    for binding in bindings:\n",
    "        poem_uris.append(binding[\"work\"][\"value\"])\n",
    "    \n",
    "    return poem_uris"
   ]
  },
  {
   "cell_type": "code",
   "execution_count": 80,
   "id": "558b7cc9",
   "metadata": {},
   "outputs": [
    {
     "data": {
      "text/plain": [
       "10071"
      ]
     },
     "execution_count": 80,
     "metadata": {},
     "output_type": "execute_result"
    }
   ],
   "source": [
    "#get_poem_uris() returns a very long list\n",
    "len(get_poem_uris())"
   ]
  },
  {
   "cell_type": "code",
   "execution_count": 81,
   "id": "d5cf7b73",
   "metadata": {},
   "outputs": [],
   "source": [
    "def get_corpus_content(corpus=None, **kwargs) -> dict:\n",
    "    \"\"\"Returns metadata on the corpus.\n",
    "        \n",
    "        Similar to DraCor's https://dracor.org/doc/api#/public/list-corpus-content\n",
    "        \n",
    "        Returns:\n",
    "            dict: data on the corpus listing all the poems\n",
    "    \"\"\"\n",
    "    \n",
    "    corpus_data = get_corpus_info(metrics=False)\n",
    "    \n",
    "    corpus_data[\"poems\"] = []\n",
    "    \n",
    "    poem_uris = get_poem_uris()\n",
    "    \n",
    "    for poem_uri in poem_uris:\n",
    "        poem_data = get_poem_metadata(poem_uri)\n",
    "        corpus_data[\"poems\"].append(poem_data)\n",
    "    \n",
    "    return corpus_data"
   ]
  },
  {
   "cell_type": "code",
   "execution_count": 82,
   "id": "4805e291",
   "metadata": {},
   "outputs": [],
   "source": [
    "#%%time\n",
    "#this is a little bit slow, hmpf\n",
    "#uncomment to show\n",
    "#get_corpus_content()"
   ]
  },
  {
   "cell_type": "code",
   "execution_count": 83,
   "id": "d8d29425",
   "metadata": {},
   "outputs": [],
   "source": [
    "#this works with the poetry lab live system, but it takes a very, very long time..."
   ]
  },
  {
   "cell_type": "code",
   "execution_count": 84,
   "id": "8684884e",
   "metadata": {},
   "outputs": [],
   "source": [
    "#create example data for postman mock server\n",
    "example_data = get_corpus_content()\n",
    "with open(\"corpus_content_example.json\", \"w\", encoding='utf-8') as outfile:\n",
    "    json.dump(example_data, outfile, ensure_ascii=False)"
   ]
  },
  {
   "cell_type": "code",
   "execution_count": 85,
   "id": "b64ca00d",
   "metadata": {},
   "outputs": [
    {
     "data": {
      "text/plain": [
       "'http://postdata.linhd.uned.es/resource/pw_juana-ines-de-la-cruz_sabras-querido-fabio'"
      ]
     },
     "execution_count": 85,
     "metadata": {},
     "output_type": "execute_result"
    }
   ],
   "source": [
    "#example poem uri\n",
    "poem_uri"
   ]
  },
  {
   "cell_type": "markdown",
   "id": "e702aabc",
   "metadata": {},
   "source": [
    "### Text of a single poem\n",
    "The text can be retrieved by looking at the Redaction, which has a propery `pdc:text`. There are newlines `\\n`. Later maybe use the `Accept` header `text/plain` returning plaintext with `\\n`; no stanzas; but also a version, that would display the poem according to the postdata json, stanzas as lists e.g.\n",
    "\n",
    "```\n",
    "{\n",
    "        \"author\": \"Abschatz, Hans A\\u00dfmann von\",\n",
    "        \"authorRef\": \"pnd:118500279\",\n",
    "        \"publicationDate\": \"1970\",\n",
    "        \"title\": \"Die fremde Regung\",\n",
    "        \"text\": [\n",
    "            [\n",
    "                \"Im Mittel aller Lust/ die Gl\\u00fcck und Zeit mir geben/\",\n",
    "                \"Kan ich ohn Silvien nicht fr\\u00f6lich leben;\",\n",
    "                \"Und wenn ich bey ihr bin/ so spielet um mein Hertz\",\n",
    "                \"Ein angenehmer Schmertz.\"\n",
    "            ],\n",
    "            [\n",
    "                \"Mein Sinn f\\u00fchlt sich gereizt von unbekandtem Triebe/\",\n",
    "                \"Ich such/ und treffe sie doch ohne Furcht nicht an.\",\n",
    "                \"Wofern ein Mensch iemahls unwissend lieben kan/\",\n",
    "                \"So glaub ich/ da\\u00df ich liebe.\"\n",
    "            ]\n",
    "        ]\n",
    "    }\n",
    "```"
   ]
  },
  {
   "cell_type": "code",
   "execution_count": 86,
   "id": "c11abdf0",
   "metadata": {},
   "outputs": [],
   "source": [
    "#use poem with stanzas as example \n",
    "poem_uri = \"http://postdata.linhd.uned.es/resource/pw_carlos-mendoza_noviembre\""
   ]
  },
  {
   "cell_type": "code",
   "execution_count": 87,
   "id": "87f45c78",
   "metadata": {},
   "outputs": [],
   "source": [
    "def get_poem_plaintext(poem_uri:str) -> str:\n",
    "    \"\"\"Returns the text of a poem\"\"\"\n",
    "    \n",
    "    query = \"\"\"\n",
    "    PREFIX pdc: <http://postdata.linhd.uned.es/ontology/postdata-core#>\n",
    "    \n",
    "    SELECT ?Text FROM <tag:stardog:api:context:local> WHERE {\n",
    "        <$> pdc:isRealisedThrough ?Redaction .\n",
    "        ?Redaction pdc:text ?Text .\n",
    "    }\n",
    "    \"\"\"\n",
    "    \n",
    "    sparql_results = sparql(replace_placeholder(query,poem_uri))\n",
    "    text = sparql_results[\"results\"][\"bindings\"][0][\"Text\"][\"value\"]\n",
    "    return text"
   ]
  },
  {
   "cell_type": "code",
   "execution_count": 88,
   "id": "28ff3bd7",
   "metadata": {},
   "outputs": [
    {
     "data": {
      "text/plain": [
       "'Conmemórase ahora los difuntos,\\nva la gente en tropel al Campo santo,\\ny oye luego el Tenorio con encanto,\\nteatro y devoción andando juntos.\\n\\nSon la ropa y la lumbre los asuntos\\nque ocasionan el mayor quebranto,\\nteniéndose los pobres, con espanto,\\nsin fuego, por cadáveres presuntos.\\n\\nS abren de los ricos los salones,\\nse cierran como pueden los desvanes,\\ngoza, el que tiene, caras diversiones;\\n\\npadece, el que no tiene, mil afanes;\\ny si hay quien se duerme entre edredones\\nmuchos más se adormitan como Adanes.'"
      ]
     },
     "execution_count": 88,
     "metadata": {},
     "output_type": "execute_result"
    }
   ],
   "source": [
    "get_poem_plaintext(poem_uri)"
   ]
  },
  {
   "cell_type": "code",
   "execution_count": 89,
   "id": "ab953761",
   "metadata": {},
   "outputs": [
    {
     "name": "stdout",
     "output_type": "stream",
     "text": [
      "Conmemórase ahora los difuntos,\n",
      "va la gente en tropel al Campo santo,\n",
      "y oye luego el Tenorio con encanto,\n",
      "teatro y devoción andando juntos.\n",
      "\n",
      "Son la ropa y la lumbre los asuntos\n",
      "que ocasionan el mayor quebranto,\n",
      "teniéndose los pobres, con espanto,\n",
      "sin fuego, por cadáveres presuntos.\n",
      "\n",
      "S abren de los ricos los salones,\n",
      "se cierran como pueden los desvanes,\n",
      "goza, el que tiene, caras diversiones;\n",
      "\n",
      "padece, el que no tiene, mil afanes;\n",
      "y si hay quien se duerme entre edredones\n",
      "muchos más se adormitan como Adanes.\n"
     ]
    }
   ],
   "source": [
    "print(get_poem_plaintext(poem_uri))"
   ]
  },
  {
   "cell_type": "markdown",
   "id": "608295b4",
   "metadata": {},
   "source": [
    "#### text as json\n",
    "\n",
    "List in List\n",
    "\n",
    "```\n",
    "[\n",
    "    [\n",
    "    \"Im Mittel aller Lust/ die Gl\\u00fcck und Zeit mir geben/\",\n",
    "    \"Kan ich ohn Silvien nicht fr\\u00f6lich leben;\",\n",
    "    \"Und wenn ich bey ihr bin/ so spielet um mein Hertz\",\n",
    "    \"Ein angenehmer Schmertz.\"\n",
    "    ],\n",
    "    [\n",
    "    \"Mein Sinn f\\u00fchlt sich gereizt von unbekandtem Triebe/\",\n",
    "    \"Ich such/ und treffe sie doch ohne Furcht nicht an.\",\n",
    "    \"Wofern ein Mensch iemahls unwissend lieben kan/\",\n",
    "    \"So glaub ich/ da\\u00df ich liebe.\"\n",
    "    ]\n",
    "]\n",
    "```\n",
    "Probably, such a structure could be created with SPARQL CONSTRUCT but don't know, how to exactly do that.\n",
    "Meanwhile, I created a query that would use `pdp:stanzaNumber` and `pdp:relativeLineNumber` . We then have to create the structure in Python."
   ]
  },
  {
   "cell_type": "code",
   "execution_count": 90,
   "id": "f733a44d",
   "metadata": {},
   "outputs": [],
   "source": [
    "def get_poem_text_json(poem_uri:str) -> list:\n",
    "    \"\"\"Returns the text of a poem as list\n",
    "        \n",
    "        stanzas are lists themselves.\n",
    "    \"\"\"\n",
    "    \n",
    "    query = \"\"\"\n",
    "    PREFIX pdc: <http://postdata.linhd.uned.es/ontology/postdata-core#>\n",
    "    PREFIX pdp: <http://postdata.linhd.uned.es/ontology/postdata-poeticAnalysis#>\n",
    "\n",
    "    SELECT ?StanzaNo ?LineNo ?LineContent FROM <tag:stardog:api:context:local> {\n",
    "        <$> pdc:isRealisedThrough ?Redaction .\n",
    "    \n",
    "        ?Redaction pdp:wasInputFor ?ScansionProcess .\n",
    "    \n",
    "        ?ScansionProcess pdp:generated ?Scansion .\n",
    "    \n",
    "        ?Scansion pdp:typeOfScansion <http://postdata.linhd.uned.es/kos/automaticscansion>. #only automatic\n",
    "        ?Scansion pdp:hasStanza ?Stanza .\n",
    "    \n",
    "        ?Stanza pdp:stanzaNumber ?StanzaNo ;\n",
    "            pdp:hasLine ?Line .\n",
    "\n",
    "        ?Line pdp:content ?LineContent ;\n",
    "          pdp:relativeLineNumber ?LineNo .\n",
    "                            \n",
    "    }\n",
    "    ORDER BY ?StanzaNo ?LineNo\n",
    "    \"\"\"\n",
    "    \n",
    "    sparql_results = sparql(replace_placeholder(query,poem_uri))\n",
    "    \n",
    "    #very spaghetti: i need something to put the stanzas together\n",
    "    stanzas = {}\n",
    "    \n",
    "    for binding in sparql_results[\"results\"][\"bindings\"]:\n",
    "        stanza_no = binding[\"StanzaNo\"][\"value\"]\n",
    "        line_no = binding[\"LineNo\"][\"value\"]\n",
    "        line_content = binding[\"LineContent\"][\"value\"]\n",
    "        \n",
    "        if stanza_no not in stanzas:\n",
    "            stanzas[stanza_no] = {}\n",
    "            stanzas[stanza_no][\"lines\"] = []\n",
    "        #hopefully the sorting in the query works, otherwhise I have to sort here as well\n",
    "        stanzas[stanza_no][\"lines\"].append(line_content)\n",
    "    \n",
    "    text = []\n",
    "    \n",
    "    keys = list(stanzas.keys())\n",
    "    keys.sort()\n",
    "    for key in keys:\n",
    "        text.append(stanzas[key][\"lines\"])\n",
    "    \n",
    "    return text"
   ]
  },
  {
   "cell_type": "code",
   "execution_count": 91,
   "id": "3ef3c031",
   "metadata": {},
   "outputs": [
    {
     "data": {
      "text/plain": [
       "[['Conmemórase ahora los difuntos ,',\n",
       "  'va la gente en tropel al Campo santo ,',\n",
       "  'y oye luego el Tenorio con encanto ,',\n",
       "  'teatro y devoción andando juntos .'],\n",
       " ['Son la ropa y la lumbre los asuntos',\n",
       "  'que ocasionan el mayor quebranto ,',\n",
       "  'teniéndose los pobres , con espanto ,',\n",
       "  'sin fuego , por cadáveres presuntos .'],\n",
       " ['S abren de los ricos los salones ,',\n",
       "  'se cierran como pueden los desvanes ,',\n",
       "  'goza , el que tiene , caras diversiones ;'],\n",
       " ['padece , el que no tiene , mil afanes ;',\n",
       "  'y si hay quien se duerme entre edredones',\n",
       "  'muchos más se adormitan como Adanes .']]"
      ]
     },
     "execution_count": 91,
     "metadata": {},
     "output_type": "execute_result"
    }
   ],
   "source": [
    "get_poem_text_json(poem_uri)\n",
    "#I don't know why we have the strange whitespace handling here; this is what comes from pdp:content from Line"
   ]
  },
  {
   "cell_type": "code",
   "execution_count": 92,
   "id": "94bdc1e7",
   "metadata": {},
   "outputs": [
    {
     "data": {
      "text/plain": [
       "[['De pura honestidad templo sagrado ,',\n",
       "  'cuyo bello cimiento y gentil muro ,',\n",
       "  'de blanco nácar y alabastro duro',\n",
       "  'fue por divina mano fabricado ;'],\n",
       " ['pequeña puerta de coral preciado ,',\n",
       "  'claras lumbreras de mirar seguro ,',\n",
       "  'que a la esmeralda fina el verde puro',\n",
       "  'habéis para viriles usurpado ;'],\n",
       " ['soberbio techo , cuyas cimbrias de oro',\n",
       "  'al claro sol , en cuanto en torno gira ,',\n",
       "  'ornan de luz , coronan de belleza ;'],\n",
       " ['ídolo bello , a quien humilde adoro ,',\n",
       "  'oye piadoso al que por ti suspira ,',\n",
       "  'tus himnos canta , y tus virtudes reza .']]"
      ]
     },
     "execution_count": 92,
     "metadata": {},
     "output_type": "execute_result"
    }
   ],
   "source": [
    "get_poem_text_json(\"http://postdata.linhd.uned.es/resource/pw_gongora-luis-de_de-pura-honestidad-templo-sagrado\")"
   ]
  },
  {
   "cell_type": "code",
   "execution_count": 93,
   "id": "7e0a071b",
   "metadata": {},
   "outputs": [],
   "source": [
    "#need a function to clean remove the whitespace problems."
   ]
  },
  {
   "cell_type": "markdown",
   "id": "3ee75282",
   "metadata": {},
   "source": [
    "### Single Poem View\n",
    "Would be some kind of equivalent to `https://dracor.org/api/corpora/ger/play/lessing-emilia-galotti` --> `/corpora/{corpus}/poems/{poem-name}` but also depends on the metadata of a single poem:"
   ]
  },
  {
   "cell_type": "code",
   "execution_count": 94,
   "id": "4212876f",
   "metadata": {},
   "outputs": [
    {
     "data": {
      "text/plain": [
       "{'id': 'pd_c64285d2',\n",
       " 'uri': 'http://postdata.linhd.uned.es/resource/pw_carlos-mendoza_noviembre',\n",
       " 'name': 'carlos-mendoza_noviembre',\n",
       " 'title': 'Noviembre',\n",
       " 'authors': [{'name': 'Carlos Mendoza',\n",
       "   'uri': 'http://postdata.linhd.uned.es/resource/p_carlos-mendoza'}],\n",
       " 'source': 'POSTDATA Poetry Lab',\n",
       " 'sourceUrl': 'http://poetry.linhd.uned.es:3000/en/author/carlos-mendoza/poetic-work/noviembre'}"
      ]
     },
     "execution_count": 94,
     "metadata": {},
     "output_type": "execute_result"
    }
   ],
   "source": [
    "get_poem_metadata(poem_uri)"
   ]
  },
  {
   "cell_type": "markdown",
   "id": "7a3bc111",
   "metadata": {},
   "source": [
    "The authoritative source of an analysis of a poem would be the scansion. POSTDATA implemented a query that returns all information on the scansion. There is no need to replicate that; we would rather add some aggregated information, like number of stanzas and lines in stanzas.\n",
    "\n",
    "The automatic scansion can be viewed in the poem-viewer: http://poetry.linhd.uned.es:3000/en/poem-viewer/A_carlos-mendoza_noviembre_1645475669320137"
   ]
  },
  {
   "cell_type": "markdown",
   "id": "57001696",
   "metadata": {},
   "source": [
    "Could add a link to the scansions: `/corpora/{corpus}/poems/{poem}/scansions`\n",
    "```\n",
    "{\n",
    "\"scansions\" : [\n",
    "    {\n",
    "    \"id\" : \"{URI}\" , \n",
    "    \"type\" : \"automatic\",\n",
    "    \"viewerUrl\" : \"http://poetry.linhd.uned.es:3000/en/poem-viewer/A_carlos-mendoza_noviembre_1645475669320137\"\n",
    "    }\n",
    "]\n",
    "}\n",
    "```"
   ]
  },
  {
   "cell_type": "code",
   "execution_count": 95,
   "id": "9d726b1a",
   "metadata": {},
   "outputs": [],
   "source": [
    "def scansion_graph_to_viewer_url(graph_name:str) -> str:\n",
    "    \"\"\"Transform the name of a graph to a url to view the scansion in poetry lab\"\"\"\n",
    "    viewer_base_url = \"http://poetry.linhd.uned.es:3000/en/poem-viewer/\"\n",
    "    \n",
    "    graph_name_part = graph_name.replace(\"http://postdata.linhd.uned.es/\",\"\")\n",
    "    viewer_url = \"http://poetry.linhd.uned.es:3000/en/poem-viewer/\" + graph_name_part\n",
    "        \n",
    "    return viewer_url"
   ]
  },
  {
   "cell_type": "code",
   "execution_count": 96,
   "id": "0650e65e",
   "metadata": {},
   "outputs": [],
   "source": [
    "def get_scansions_metadata(poem_uri:str) -> dict:\n",
    "    \"\"\"Returns basic metadata about the Scansions for a given poem identified by URI\n",
    "    \"\"\"\n",
    "    \n",
    "    query= \"\"\"\n",
    "    PREFIX pdc: <http://postdata.linhd.uned.es/ontology/postdata-core#>\n",
    "    PREFIX pdp: <http://postdata.linhd.uned.es/ontology/postdata-poeticAnalysis#>\n",
    "\n",
    "    SELECT ?Scansion ?ScansionType ?graph FROM <tag:stardog:api:context:local> WHERE {\n",
    "        <$> pdc:isRealisedThrough ?Redaction .\n",
    "    \n",
    "        ?Redaction pdp:wasInputFor ?ScansionProcess .\n",
    "    \n",
    "        ?ScansionProcess pdp:generated ?Scansion .\n",
    "    \n",
    "        ?Scansion pdp:typeOfScansion ?ScansionType.\n",
    "        \n",
    "        OPTIONAL {\n",
    "            ?Scansion pdp:graphName ?graph .\n",
    "        }\n",
    "    }\n",
    "    \"\"\"\n",
    "    \n",
    "    sparql_results = sparql(replace_placeholder(query,poem_uri))\n",
    "    \n",
    "    scansions = []\n",
    "    \n",
    "    for binding in sparql_results[\"results\"][\"bindings\"]:\n",
    "        scansion = {}\n",
    "        scansion[\"uri\"] = binding[\"Scansion\"][\"value\"]\n",
    "        \n",
    "        #this returns the KOS entry, maybe, because we are simplifying anyways, we can translate it to a more readable form\n",
    "        if binding[\"ScansionType\"][\"value\"] == \"http://postdata.linhd.uned.es/kos/automaticscansion\":\n",
    "            scansion[\"type\"] = \"automatic\"\n",
    "        elif binding[\"ScansionType\"][\"value\"] == \"http://postdata.linhd.uned.es/kos/ManualAnnotation\":\n",
    "            scansion[\"type\"] = \"manual\"\n",
    "        else:\n",
    "            #fallback\n",
    "            scansion[\"type\"] = binding[\"ScansionType\"][\"value\"]\n",
    "        \n",
    "        #get the graph and the viewer url\n",
    "        try:\n",
    "            scansion[\"graphUri\"] = binding[\"graph\"][\"value\"]\n",
    "            scansion[\"viewerUrl\"] = scansion_graph_to_viewer_url(scansion[\"graphUri\"])\n",
    "        except:\n",
    "            pass\n",
    "        \n",
    "        scansions.append(scansion)\n",
    "    \n",
    "    return scansions"
   ]
  },
  {
   "cell_type": "code",
   "execution_count": 97,
   "id": "12dd225a",
   "metadata": {},
   "outputs": [
    {
     "data": {
      "text/plain": [
       "[{'uri': 'http://postdata.linhd.uned.es/resource/sc_lope-de-vega_1-al-sujeto-de-la-dama-que-le-dijo-dios-le-provea_adso_16454747423186843',\n",
       "  'type': 'automatic',\n",
       "  'graphUri': 'http://postdata.linhd.uned.es/A_lope-de-vega_1-al-sujeto-de-la-dama-que-le-dijo-dios-le-provea_16454747423186843',\n",
       "  'viewerUrl': 'http://poetry.linhd.uned.es:3000/en/poem-viewer/A_lope-de-vega_1-al-sujeto-de-la-dama-que-le-dijo-dios-le-provea_16454747423186843'},\n",
       " {'uri': 'http://postdata.linhd.uned.es/resource/sc_lope-de-vega_1-al-sujeto-de-la-dama-que-le-dijo-dios-le-provea_adso_1645474742181371',\n",
       "  'type': 'manual',\n",
       "  'graphUri': 'http://postdata.linhd.uned.es/M_lope-de-vega_1-al-sujeto-de-la-dama-que-le-dijo-dios-le-provea_1645474742181371',\n",
       "  'viewerUrl': 'http://poetry.linhd.uned.es:3000/en/poem-viewer/M_lope-de-vega_1-al-sujeto-de-la-dama-que-le-dijo-dios-le-provea_1645474742181371'}]"
      ]
     },
     "execution_count": 97,
     "metadata": {},
     "output_type": "execute_result"
    }
   ],
   "source": [
    "get_scansions_metadata(\"http://postdata.linhd.uned.es/resource/pw_lope-de-vega_1-al-sujeto-de-la-dama-que-le-dijo-dios-le-provea\")"
   ]
  },
  {
   "cell_type": "code",
   "execution_count": 98,
   "id": "e5ed4d6c",
   "metadata": {},
   "outputs": [],
   "source": [
    "def get_graph_of_scansion(scansion_uri:str) -> str:\n",
    "    \"\"\"Returns the URI of the named graph of a scansion\"\"\"\n",
    "    query = \"\"\"\n",
    "    PREFIX pdp: <http://postdata.linhd.uned.es/ontology/postdata-poeticAnalysis#>\n",
    "    PREFIX pdc: <http://postdata.linhd.uned.es/ontology/postdata-core#>\n",
    "\n",
    "    SELECT ?graph FROM <tag:stardog:api:context:local> WHERE {\n",
    "      <$> pdp:graphName ?graph .\n",
    "    }\n",
    "    \"\"\"\n",
    "    sparql_results = sparql(replace_placeholder(query,scansion_uri))\n",
    "    \n",
    "    return sparql_results[\"results\"][\"bindings\"][0][\"graph\"][\"value\"]\n",
    "    "
   ]
  },
  {
   "cell_type": "code",
   "execution_count": 99,
   "id": "743e6011",
   "metadata": {},
   "outputs": [
    {
     "data": {
      "text/plain": [
       "'http://postdata.linhd.uned.es/A_lope-de-vega_1-al-sujeto-de-la-dama-que-le-dijo-dios-le-provea_16454747423186843'"
      ]
     },
     "execution_count": 99,
     "metadata": {},
     "output_type": "execute_result"
    }
   ],
   "source": [
    "get_graph_of_scansion(\"http://postdata.linhd.uned.es/resource/sc_lope-de-vega_1-al-sujeto-de-la-dama-que-le-dijo-dios-le-provea_adso_16454747423186843\")"
   ]
  },
  {
   "cell_type": "code",
   "execution_count": 100,
   "id": "236bc982",
   "metadata": {},
   "outputs": [],
   "source": [
    "def scansion_uri_to_scansion_viewer_url(scansion_uri:str) -> str:\n",
    "    \"\"\"Get a viewer url for a scansion\"\"\"\n",
    "    \n",
    "    viewer_base_url = \"http://poetry.linhd.uned.es:3000/en/poem-viewer/\"\n",
    "    scansion_graph = get_graph_of_scansion(scansion_uri)\n",
    "        \n",
    "    return scansion_graph_to_viewer_url(scansion_graph)"
   ]
  },
  {
   "cell_type": "code",
   "execution_count": 101,
   "id": "eec1a750",
   "metadata": {},
   "outputs": [],
   "source": [
    "#test\n",
    "scansion_uri = \"http://postdata.linhd.uned.es/resource/sc_lope-de-vega_1-al-sujeto-de-la-dama-que-le-dijo-dios-le-provea_adso_16454747423186843\""
   ]
  },
  {
   "cell_type": "code",
   "execution_count": 102,
   "id": "e8f7a6c6",
   "metadata": {},
   "outputs": [
    {
     "data": {
      "text/plain": [
       "'http://poetry.linhd.uned.es:3000/en/poem-viewer/A_lope-de-vega_1-al-sujeto-de-la-dama-que-le-dijo-dios-le-provea_16454747423186843'"
      ]
     },
     "execution_count": 102,
     "metadata": {},
     "output_type": "execute_result"
    }
   ],
   "source": [
    "scansion_uri_to_scansion_viewer_url(scansion_uri)"
   ]
  },
  {
   "cell_type": "code",
   "execution_count": 103,
   "id": "40b63dfb",
   "metadata": {},
   "outputs": [
    {
     "data": {
      "text/plain": [
       "[{'uri': 'http://postdata.linhd.uned.es/resource/sc_carlos-mendoza_noviembre_disco2-1_16454756691771069',\n",
       "  'type': 'manual',\n",
       "  'graphUri': 'http://postdata.linhd.uned.es/M_carlos-mendoza_noviembre_16454756691771069',\n",
       "  'viewerUrl': 'http://poetry.linhd.uned.es:3000/en/poem-viewer/M_carlos-mendoza_noviembre_16454756691771069'},\n",
       " {'uri': 'http://postdata.linhd.uned.es/resource/sc_carlos-mendoza_noviembre_disco2-1_1645475669320137',\n",
       "  'type': 'automatic',\n",
       "  'graphUri': 'http://postdata.linhd.uned.es/A_carlos-mendoza_noviembre_1645475669320137',\n",
       "  'viewerUrl': 'http://poetry.linhd.uned.es:3000/en/poem-viewer/A_carlos-mendoza_noviembre_1645475669320137'}]"
      ]
     },
     "execution_count": 103,
     "metadata": {},
     "output_type": "execute_result"
    }
   ],
   "source": [
    "get_scansions_metadata(poem_uri)"
   ]
  },
  {
   "cell_type": "markdown",
   "id": "3c69d4b1",
   "metadata": {},
   "source": [
    "`{ \"source\" : {\"uri\" : \"scansion-uri\"} }`"
   ]
  },
  {
   "cell_type": "code",
   "execution_count": 104,
   "id": "8fb7432c",
   "metadata": {},
   "outputs": [],
   "source": [
    "def get_source_scansion_uri(poem_uri:str, scansion:str=\"auto\") -> str:\n",
    "    \"\"\"Get metadata on the scansion that is the source of the analysis\"\"\"\n",
    "    query = \"\"\"\n",
    "    PREFIX pdc: <http://postdata.linhd.uned.es/ontology/postdata-core#>\n",
    "    PREFIX pdp: <http://postdata.linhd.uned.es/ontology/postdata-poeticAnalysis#>\n",
    "\n",
    "    SELECT ?Scansion FROM <tag:stardog:api:context:local> WHERE {\n",
    "        <$> pdc:isRealisedThrough ?Redaction .\n",
    "    \n",
    "        ?Redaction pdp:wasInputFor ?ScansionProcess .\n",
    "    \n",
    "        ?ScansionProcess pdp:generated ?Scansion .\n",
    "    \n",
    "        ?Scansion pdp:typeOfScansion <http://postdata.linhd.uned.es/kos/automaticscansion> .\n",
    "    }\n",
    "    \"\"\"\n",
    "    # this is the scansion, that is normally used for retrieving analysis data\n",
    "    \n",
    "    sparql_results = sparql(replace_placeholder(query,poem_uri))\n",
    "    \n",
    "    return sparql_results[\"results\"][\"bindings\"][0][\"Scansion\"][\"value\"]"
   ]
  },
  {
   "cell_type": "code",
   "execution_count": 106,
   "id": "14563464",
   "metadata": {},
   "outputs": [
    {
     "name": "stdout",
     "output_type": "stream",
     "text": [
      "CPU times: user 2.46 ms, sys: 1.52 ms, total: 3.98 ms\n",
      "Wall time: 125 ms\n"
     ]
    },
    {
     "data": {
      "text/plain": [
       "'http://postdata.linhd.uned.es/resource/sc_carlos-mendoza_noviembre_disco2-1_1645475669320137'"
      ]
     },
     "execution_count": 106,
     "metadata": {},
     "output_type": "execute_result"
    }
   ],
   "source": [
    "%%time\n",
    "get_source_scansion_uri(poem_uri)"
   ]
  },
  {
   "cell_type": "markdown",
   "id": "a4887c18",
   "metadata": {},
   "source": [
    "#### Metrics on a poem\n",
    "An endpoint, that would return some kind of \"metrics\": `/corpora/{corpus}/poems/{poem}/analysis` or include this in the basic metadata?"
   ]
  },
  {
   "cell_type": "markdown",
   "id": "51caca83",
   "metadata": {},
   "source": [
    "```\n",
    "{\n",
    "    \"\"\n",
    "    \"numOfStanzas\" : 4 ,\n",
    "    \"numOfLines\" : 14 ,\n",
    "    \"numOfLinesInStanzas\" : [4,4,3,3] ,\n",
    "    \"StanzaRhymeSchema\" : [\"abba\", \"abba\", \"cdc\", \"cdc\"]\n",
    "    ...\n",
    "}\n",
    "```"
   ]
  },
  {
   "cell_type": "code",
   "execution_count": 108,
   "id": "0b8a7850",
   "metadata": {},
   "outputs": [],
   "source": [
    "def get_numOfStanzas(poem_uri:str, scansion:str=\"auto\") -> int:\n",
    "    \"\"\"Returns the number of stanzas\n",
    "    \n",
    "    Args:\n",
    "        scansion (str, optional): Return data based on automatic or manual (\"manual\") scansion. Defaults to \"auto\" (automatic).\n",
    "    \n",
    "    TODO: implement retrieving data based on \"manual\".\n",
    "    \"\"\"\n",
    "    \n",
    "    query = \"\"\"\n",
    "    PREFIX pdc: <http://postdata.linhd.uned.es/ontology/postdata-core#>\n",
    "    PREFIX pdp: <http://postdata.linhd.uned.es/ontology/postdata-poeticAnalysis#>\n",
    "\n",
    "    SELECT (COUNT(?Stanza) as ?count) FROM <tag:stardog:api:context:local> WHERE {\n",
    "        <$> pdc:isRealisedThrough ?Redaction .\n",
    "    \n",
    "        ?Redaction pdp:wasInputFor ?ScansionProcess .\n",
    "    \n",
    "        ?ScansionProcess pdp:generated ?Scansion .\n",
    "    \n",
    "        ?Scansion pdp:typeOfScansion <http://postdata.linhd.uned.es/kos/automaticscansion> ;\n",
    "              pdp:hasStanza ?Stanza .\n",
    "    }\n",
    "    \"\"\"\n",
    "    \n",
    "    sparql_results = sparql(replace_placeholder(query,poem_uri))\n",
    "    return int(sparql_results[\"results\"][\"bindings\"][0][\"count\"][\"value\"])\n",
    "    "
   ]
  },
  {
   "cell_type": "code",
   "execution_count": 109,
   "id": "51e9186a",
   "metadata": {},
   "outputs": [
    {
     "data": {
      "text/plain": [
       "4"
      ]
     },
     "execution_count": 109,
     "metadata": {},
     "output_type": "execute_result"
    }
   ],
   "source": [
    "get_numOfStanzas(poem_uri)"
   ]
  },
  {
   "cell_type": "code",
   "execution_count": 110,
   "id": "e93d70a4",
   "metadata": {},
   "outputs": [],
   "source": [
    "def get_numOfLines(poem_uri:str, scansion:str=\"auto\") -> int:\n",
    "    \"\"\"Returns the number of lines/verses\n",
    "    \n",
    "    Args:\n",
    "        scansion (str, optional): Return data based on automatic or manual (\"manual\") scansion. Defaults to \"auto\" (automatic).\n",
    "    \n",
    "    TODO: implement retrieving data based on \"manual\".\n",
    "    \"\"\"\n",
    "    \n",
    "    query = \"\"\"\n",
    "    PREFIX pdc: <http://postdata.linhd.uned.es/ontology/postdata-core#>\n",
    "    PREFIX pdp: <http://postdata.linhd.uned.es/ontology/postdata-poeticAnalysis#>\n",
    "\n",
    "    SELECT (COUNT(?Line) AS ?count) FROM <tag:stardog:api:context:local> WHERE {\n",
    "        <$> pdc:isRealisedThrough ?Redaction .\n",
    "    \n",
    "        ?Redaction pdp:wasInputFor ?ScansionProcess .\n",
    "    \n",
    "        ?ScansionProcess pdp:generated ?Scansion .\n",
    "    \n",
    "        ?Scansion pdp:typeOfScansion <http://postdata.linhd.uned.es/kos/automaticscansion> ;\n",
    "              pdp:hasStanza ?Stanza .\n",
    "    \n",
    "        ?Stanza pdp:hasLine ?Line .\n",
    "    }\n",
    "    \"\"\"\n",
    "    \n",
    "    sparql_results = sparql(replace_placeholder(query,poem_uri))\n",
    "    return int(sparql_results[\"results\"][\"bindings\"][0][\"count\"][\"value\"])"
   ]
  },
  {
   "cell_type": "code",
   "execution_count": 111,
   "id": "b4870494",
   "metadata": {},
   "outputs": [
    {
     "data": {
      "text/plain": [
       "14"
      ]
     },
     "execution_count": 111,
     "metadata": {},
     "output_type": "execute_result"
    }
   ],
   "source": [
    "get_numOfLines(poem_uri)"
   ]
  },
  {
   "cell_type": "code",
   "execution_count": 139,
   "id": "6593bae2",
   "metadata": {},
   "outputs": [],
   "source": [
    "def get_rhymeSchemes(poem_uri:str, scansion:str=\"auto\") -> list:\n",
    "    \"\"\"Returns the rhyme schemes of the stanzas of a poem\n",
    "    \"\"\"\n",
    "    \n",
    "    #this changed in the Knowledge Graph\n",
    "    query = \"\"\"\n",
    "    PREFIX pdc: <http://postdata.linhd.uned.es/ontology/postdata-core#>\n",
    "    PREFIX pdp: <http://postdata.linhd.uned.es/ontology/postdata-poeticAnalysis#>\n",
    "\n",
    "    SELECT ?StanzaNo ?rhymeScheme FROM <tag:stardog:api:context:local> WHERE {\n",
    "        <$> pdc:isRealisedThrough ?Redaction .\n",
    "    \n",
    "        ?Redaction pdp:wasInputFor ?ScansionProcess .\n",
    "    \n",
    "        ?ScansionProcess pdp:generated ?Scansion .\n",
    "    \n",
    "        ?Scansion pdp:typeOfScansion <http://postdata.linhd.uned.es/kos/automaticscansion> ;\n",
    "              pdp:hasStanza ?Stanza .\n",
    "  \n",
    "        ?Stanza pdp:stanzaNumber ?StanzaNo ;\n",
    "            pdp:rhymeScheme ?rhymeScheme .\n",
    "    }\n",
    "    ORDER BY ?StanzaNo\n",
    "    \"\"\"\n",
    "    \n",
    "    sparql_results = sparql(replace_placeholder(query,poem_uri))\n",
    "    \n",
    "    #hope, that ordering works for 1, 11 ...\n",
    "    rhyme_schemes = []\n",
    "    for binding in sparql_results[\"results\"][\"bindings\"]:\n",
    "        rhyme_schemes.append(binding[\"rhymeScheme\"][\"value\"])\n",
    "    \n",
    "    return rhyme_schemes\n",
    "    "
   ]
  },
  {
   "cell_type": "code",
   "execution_count": 140,
   "id": "b98cde45",
   "metadata": {},
   "outputs": [
    {
     "data": {
      "text/plain": [
       "['abba', 'abba', 'a-a', 'a-a']"
      ]
     },
     "execution_count": 140,
     "metadata": {},
     "output_type": "execute_result"
    }
   ],
   "source": [
    "#this still doesn't work!\n",
    "get_rhymeSchemes(poem_uri)"
   ]
  },
  {
   "cell_type": "code",
   "execution_count": 115,
   "id": "7e080358",
   "metadata": {},
   "outputs": [],
   "source": [
    "#\"numOfLinesInStanzas\" : [4,4,3,3] ,\n",
    "def get_numOfLines_in_stanzas(poem_uri:str, scansion:str=\"auto\") -> list:\n",
    "    \"\"\"Returns the number of lines of all stanzas\"\"\"\n",
    "    \n",
    "    query = \"\"\"\n",
    "    PREFIX pdc: <http://postdata.linhd.uned.es/ontology/postdata-core#>\n",
    "    PREFIX pdp: <http://postdata.linhd.uned.es/ontology/postdata-poeticAnalysis#>\n",
    "\n",
    "    SELECT ?StanzaNumber (COUNT(?Line) AS ?count) FROM <tag:stardog:api:context:local> WHERE {\n",
    "        <$> pdc:isRealisedThrough ?Redaction .\n",
    "    \n",
    "    ?Redaction pdp:wasInputFor ?ScansionProcess .\n",
    "    \n",
    "    ?ScansionProcess pdp:generated ?Scansion .\n",
    "    \n",
    "    ?Scansion pdp:typeOfScansion <http://postdata.linhd.uned.es/kos/automaticscansion> ;\n",
    "              pdp:hasStanza ?Stanza .\n",
    "    \n",
    "    ?Stanza pdp:stanzaNumber ?StanzaNumber ;\n",
    "            pdp:hasLine ?Line .\n",
    "\n",
    "    \n",
    "    }\n",
    "    GROUP BY ?StanzaNumber\n",
    "    ORDER BY ?StanzaNumber\n",
    "    \"\"\"\n",
    "    \n",
    "    sparql_results = sparql(replace_placeholder(query,poem_uri))\n",
    "    \n",
    "    line_counts = []\n",
    "    for binding in sparql_results[\"results\"][\"bindings\"]:\n",
    "        line_counts.append(int(binding[\"count\"][\"value\"]))\n",
    "    \n",
    "    return line_counts\n",
    "    "
   ]
  },
  {
   "cell_type": "code",
   "execution_count": 116,
   "id": "989255e8",
   "metadata": {},
   "outputs": [
    {
     "data": {
      "text/plain": [
       "[4, 4, 3, 3]"
      ]
     },
     "execution_count": 116,
     "metadata": {},
     "output_type": "execute_result"
    }
   ],
   "source": [
    "get_numOfLines_in_stanzas(poem_uri)"
   ]
  },
  {
   "cell_type": "code",
   "execution_count": 117,
   "id": "51364a87",
   "metadata": {},
   "outputs": [],
   "source": [
    "def get_numOfWords(poem_uri:str, scansion:str=\"auto\") -> int:\n",
    "    \"\"\"Returns the number of words in a poem\"\"\"\n",
    "    \n",
    "    query = \"\"\"\n",
    "    PREFIX pdc: <http://postdata.linhd.uned.es/ontology/postdata-core#>\n",
    "    PREFIX pdp: <http://postdata.linhd.uned.es/ontology/postdata-poeticAnalysis#>\n",
    "\n",
    "    SELECT (COUNT(?Word) AS ?count) FROM <tag:stardog:api:context:local> WHERE {\n",
    "        <$> pdc:isRealisedThrough ?Redaction .\n",
    "    \n",
    "    ?Redaction pdp:wasInputFor ?ScansionProcess .\n",
    "    \n",
    "    ?ScansionProcess pdp:generated ?Scansion .\n",
    "    \n",
    "    ?Scansion pdp:typeOfScansion <http://postdata.linhd.uned.es/kos/automaticscansion> ;\n",
    "              pdp:hasStanza ?Stanza .\n",
    "    \n",
    "    ?Stanza pdp:hasLine ?Line .\n",
    "    \n",
    "    ?Line pdp:hasWord ?Word .\n",
    "    }\n",
    "    \"\"\"\n",
    "    \n",
    "    sparql_results = sparql(replace_placeholder(query,poem_uri))\n",
    "    \n",
    "    return int(sparql_results[\"results\"][\"bindings\"][0][\"count\"][\"value\"])\n",
    "    \n",
    "    \n",
    "    "
   ]
  },
  {
   "cell_type": "code",
   "execution_count": 118,
   "id": "ad2f8c39",
   "metadata": {},
   "outputs": [
    {
     "data": {
      "text/plain": [
       "87"
      ]
     },
     "execution_count": 118,
     "metadata": {},
     "output_type": "execute_result"
    }
   ],
   "source": [
    "get_numOfWords(poem_uri)"
   ]
  },
  {
   "cell_type": "code",
   "execution_count": 119,
   "id": "a05274f2",
   "metadata": {},
   "outputs": [],
   "source": [
    "def get_numOfWords_in_stanzas(poem_uri:str, scansion:str=\"auto\") -> int:\n",
    "    \"\"\"Returns the words per line groupt into stanzas\n",
    "    \"\"\"\n",
    "    \n",
    "    query = \"\"\"\n",
    "    PREFIX pdc: <http://postdata.linhd.uned.es/ontology/postdata-core#>\n",
    "    PREFIX pdp: <http://postdata.linhd.uned.es/ontology/postdata-poeticAnalysis#>\n",
    "\n",
    "    SELECT (SAMPLE(?StanzaNumber) AS ?StanzaNo) (SAMPLE(?relativeLineNumber) AS ?LineNo) ?absoluteLineNumber (COUNT(?Word) AS ?count) FROM <tag:stardog:api:context:local> WHERE {\n",
    "        <$> pdc:isRealisedThrough ?Redaction .\n",
    "    \n",
    "        ?Redaction pdp:wasInputFor ?ScansionProcess .\n",
    "    \n",
    "        ?ScansionProcess pdp:generated ?Scansion .\n",
    "    \n",
    "        ?Scansion pdp:typeOfScansion <http://postdata.linhd.uned.es/kos/automaticscansion> ;\n",
    "              pdp:hasStanza ?Stanza .\n",
    "    \n",
    "        ?Stanza pdp:stanzaNumber ?StanzaNumber ;\n",
    "            pdp:hasLine ?Line .\n",
    "    \n",
    "        ?Line pdp:relativeLineNumber ?relativeLineNumber ;\n",
    "          pdp:absoluteLineNumber ?absoluteLineNumber ;\n",
    "          pdp:hasWord ?Word .\n",
    "    }\n",
    "    GROUP BY ?absoluteLineNumber\n",
    "    ORDER BY ?absoluteLineNumber\n",
    "    \"\"\"\n",
    "    \n",
    "    \n",
    "    #replace the uri of the poem\n",
    "    query = replace_placeholder(query,poem_uri)\n",
    "    sparql_results = sparql(query)\n",
    "    \n",
    "    words = []\n",
    "    stanza = []\n",
    "    current_stanza = 0\n",
    "    for binding in sparql_results[\"results\"][\"bindings\"]:\n",
    "        stanza_no = int(binding[\"StanzaNo\"][\"value\"])\n",
    "        #print(\"this:\" + str(stanza_no))\n",
    "        #print(\"current:\" + str(current_stanza))\n",
    "        \n",
    "        if current_stanza == stanza_no:\n",
    "            stanza.append(int(binding[\"count\"][\"value\"]))\n",
    "        else:\n",
    "            #next stanza\n",
    "            #print(\"next\")\n",
    "            words.append(stanza)\n",
    "            #set this as current stanza\n",
    "            current_stanza = stanza_no\n",
    "            #reset the stanza\n",
    "            stanza = []\n",
    "            stanza.append(int(binding[\"count\"][\"value\"]))\n",
    "        \n",
    "    #append the last stanza\n",
    "    words.append(stanza)\n",
    "         \n",
    "    return words\n",
    "    \n",
    "    "
   ]
  },
  {
   "cell_type": "code",
   "execution_count": 120,
   "id": "d9550526",
   "metadata": {},
   "outputs": [
    {
     "data": {
      "text/plain": [
       "[[4, 8, 7, 5], [8, 5, 5, 5], [7, 6, 6], [7, 8, 6]]"
      ]
     },
     "execution_count": 120,
     "metadata": {},
     "output_type": "execute_result"
    }
   ],
   "source": [
    "get_numOfWords_in_stanzas(poem_uri)"
   ]
  },
  {
   "cell_type": "code",
   "execution_count": 125,
   "id": "1231983c",
   "metadata": {},
   "outputs": [],
   "source": [
    "#overall count of syllables in poem\n",
    "def get_numOfSyllables(poem_uri:str, syllable_type:str=\"metrical\", scansion:str=\"auto\") -> int:\n",
    "    \"\"\"Returns the overall number of syllables in the poem\n",
    "    \n",
    "    Args:\n",
    "        syllable_type (str, optional): Type of Syllable to count (grammatical or metrical). Defaults to \"metrical\".\n",
    "    \"\"\"\n",
    "    \n",
    "    query = \"\"\"\n",
    "    PREFIX pdc: <http://postdata.linhd.uned.es/ontology/postdata-core#>\n",
    "    PREFIX pdp: <http://postdata.linhd.uned.es/ontology/postdata-poeticAnalysis#>\n",
    "\n",
    "    SELECT (COUNT(?Syllable) AS ?count) FROM <tag:stardog:api:context:local>  WHERE {\n",
    "        <$> pdc:isRealisedThrough ?Redaction .\n",
    "    \n",
    "        ?Redaction pdp:wasInputFor ?ScansionProcess .\n",
    "    \n",
    "        ?ScansionProcess pdp:generated ?Scansion .\n",
    "    \n",
    "        ?Scansion pdp:typeOfScansion <http://postdata.linhd.uned.es/kos/automaticscansion> ;\n",
    "              pdp:hasStanza ?Stanza .\n",
    "    \n",
    "        ?Stanza pdp:stanzaNumber ?StanzaNumber ;\n",
    "            pdp:hasLine ?Line .\n",
    "    \n",
    "        \n",
    "    #could be: pdp:hasGrammaticalSyllable or pdp:hasMetricalSyllable\n",
    "    ?Line pdp:§ ?Syllable .\n",
    "    }\n",
    "    \"\"\"\n",
    "    \n",
    "    #need to replace the work-uri and a property \"§\"\n",
    "    \n",
    "    query = replace_placeholder(query,poem_uri)\n",
    "    \n",
    "    #have to set the type of syllable by replacing \"§\" in the query as well\n",
    "    # can be \"hasGrammaticalSyllable\"  or \"hasMetricalSyllable\"\n",
    "    if syllable_type == \"metrical\":\n",
    "        query = query.replace(\"§\", \"hasMetricalSyllable\")\n",
    "    elif syllable_type == \"grammatical\":\n",
    "        query = query.replace(\"§\", \"hasGrammaticalSyllable\")\n",
    "    else:\n",
    "        raise Exception(\"Syllable Type is not valid.\")\n",
    "    \n",
    "    sparql_results = sparql(query)\n",
    "    \n",
    "    return int(sparql_results[\"results\"][\"bindings\"][0][\"count\"][\"value\"])\n",
    "    "
   ]
  },
  {
   "cell_type": "code",
   "execution_count": 123,
   "id": "02aed757",
   "metadata": {},
   "outputs": [
    {
     "data": {
      "text/plain": [
       "154"
      ]
     },
     "execution_count": 123,
     "metadata": {},
     "output_type": "execute_result"
    }
   ],
   "source": [
    "#default metrical\n",
    "#get_numOfSyllables(poem_uri)\n",
    "get_numOfSyllables(poem_uri, syllable_type=\"metrical\")"
   ]
  },
  {
   "cell_type": "code",
   "execution_count": 124,
   "id": "b9d8e7f7",
   "metadata": {},
   "outputs": [
    {
     "data": {
      "text/plain": [
       "166"
      ]
     },
     "execution_count": 124,
     "metadata": {},
     "output_type": "execute_result"
    }
   ],
   "source": [
    "#grammatical syllables\n",
    "get_numOfSyllables(poem_uri, syllable_type=\"grammatical\")"
   ]
  },
  {
   "cell_type": "markdown",
   "id": "faeccca1",
   "metadata": {},
   "source": [
    "Syllables\n",
    "```\n",
    "[\n",
    "[10,10,10,10] ,\n",
    "[...]\n",
    "]\n",
    "```"
   ]
  },
  {
   "cell_type": "code",
   "execution_count": 126,
   "id": "2987cf42",
   "metadata": {},
   "outputs": [],
   "source": [
    "def get_numOfSyllables_in_stanzas(poem_uri:str, syllable_type:str=\"metrical\", scansion:str=\"auto\") -> list:\n",
    "    \"\"\"Returns the number of syllables per line grouped by stanzas\n",
    "    \n",
    "    Args:\n",
    "        syllable_type (str, optional): Type of Syllable to count (grammatical or metrical). Defaults to \"metrical\".\n",
    "    \"\"\"\n",
    "    \n",
    "    query = \"\"\"\n",
    "    PREFIX pdc: <http://postdata.linhd.uned.es/ontology/postdata-core#>\n",
    "    PREFIX pdp: <http://postdata.linhd.uned.es/ontology/postdata-poeticAnalysis#>\n",
    "\n",
    "    SELECT (SAMPLE(?StanzaNumber) AS ?StanzaNo) (SAMPLE(?relativeLineNumber) AS ?relativeLineNo) ?absoluteLineNumber (COUNT(?Syllable) AS ?count) FROM <tag:stardog:api:context:local>  WHERE {\n",
    "        <$> pdc:isRealisedThrough ?Redaction .\n",
    "    \n",
    "        ?Redaction pdp:wasInputFor ?ScansionProcess .\n",
    "    \n",
    "        ?ScansionProcess pdp:generated ?Scansion .\n",
    "    \n",
    "        ?Scansion pdp:typeOfScansion <http://postdata.linhd.uned.es/kos/automaticscansion> ;\n",
    "              pdp:hasStanza ?Stanza .\n",
    "    \n",
    "        ?Stanza pdp:stanzaNumber ?StanzaNumber ;\n",
    "            pdp:hasLine ?Line .\n",
    "    \n",
    "    \n",
    "        ?Line pdp:relativeLineNumber ?relativeLineNumber ;\n",
    "          pdp:absoluteLineNumber ?absoluteLineNumber ;\n",
    "          pdp:§ ?Syllable .\n",
    "    }\n",
    "    GROUP BY ?absoluteLineNumber\n",
    "    ORDER BY ?absoluteLineNumber\n",
    "    \"\"\"\n",
    "    \n",
    "    #replace the uri of the poem\n",
    "    query = replace_placeholder(query,poem_uri)\n",
    "    \n",
    "    #have to set the type of syllable by replacing \"§\" in the query as well\n",
    "    # can be \"hasGrammaticalSyllable\"  or \"hasMetricalSyllable\"\n",
    "    if syllable_type == \"metrical\":\n",
    "        query = query.replace(\"§\", \"hasMetricalSyllable\")\n",
    "    elif syllable_type == \"grammatical\":\n",
    "        query = query.replace(\"§\", \"hasGrammaticalSyllable\")\n",
    "    else:\n",
    "        raise Exception(\"Syllable Type is not valid.\")\n",
    "    \n",
    "    sparql_results = sparql(query)\n",
    "    \n",
    "    syllables = []\n",
    "    stanza = []\n",
    "    current_stanza = 0\n",
    "    for binding in sparql_results[\"results\"][\"bindings\"]:\n",
    "        stanza_no = int(binding[\"StanzaNo\"][\"value\"])\n",
    "        #print(\"this:\" + str(stanza_no))\n",
    "        #print(\"current:\" + str(current_stanza))\n",
    "        \n",
    "        if current_stanza == stanza_no:\n",
    "            stanza.append(int(binding[\"count\"][\"value\"]))\n",
    "        else:\n",
    "            #next stanza\n",
    "            #print(\"next\")\n",
    "            syllables.append(stanza)\n",
    "            #set this as current stanza\n",
    "            current_stanza = stanza_no\n",
    "            #reset the stanza\n",
    "            stanza = []\n",
    "            stanza.append(int(binding[\"count\"][\"value\"]))\n",
    "        \n",
    "    #append the last stanza\n",
    "    syllables.append(stanza)\n",
    "         \n",
    "    return syllables"
   ]
  },
  {
   "cell_type": "code",
   "execution_count": 127,
   "id": "619c6865",
   "metadata": {},
   "outputs": [
    {
     "data": {
      "text/plain": [
       "[[11, 11, 11, 11], [11, 11, 11, 11], [11, 11, 11], [11, 11, 11]]"
      ]
     },
     "execution_count": 127,
     "metadata": {},
     "output_type": "execute_result"
    }
   ],
   "source": [
    "#use default metrical syllables\n",
    "get_numOfSyllables_in_stanzas(poem_uri)"
   ]
  },
  {
   "cell_type": "code",
   "execution_count": 128,
   "id": "a53c28a6",
   "metadata": {},
   "outputs": [
    {
     "data": {
      "text/plain": [
       "[[12, 12, 13, 12], [12, 11, 11, 11], [11, 11, 12], [12, 13, 13]]"
      ]
     },
     "execution_count": 128,
     "metadata": {},
     "output_type": "execute_result"
    }
   ],
   "source": [
    "#get the counts for grammatical syllables\n",
    "get_numOfSyllables_in_stanzas(poem_uri, syllable_type=\"grammatical\")"
   ]
  },
  {
   "cell_type": "code",
   "execution_count": 143,
   "id": "7d0ab0d3",
   "metadata": {},
   "outputs": [],
   "source": [
    "#grammatical stress\n",
    "def get_grammaticalStressPatterns_in_stanza(poem_uri:str,scansion:str=\"auto\") -> list:\n",
    "    \"\"\"Get grammatical stress patterns of lines grouped into stanzas\"\"\"\n",
    "    query = \"\"\"\n",
    "    PREFIX pdc: <http://postdata.linhd.uned.es/ontology/postdata-core#>\n",
    "    PREFIX pdp: <http://postdata.linhd.uned.es/ontology/postdata-poeticAnalysis#>\n",
    "\n",
    "    SELECT ?StanzaNumber ?absoluteLineNumber ?grammaticalStressPattern FROM <tag:stardog:api:context:local> WHERE {\n",
    "        <$> pdc:isRealisedThrough ?Redaction .\n",
    "    \n",
    "    ?Redaction pdp:wasInputFor ?ScansionProcess .\n",
    "    \n",
    "    ?ScansionProcess pdp:generated ?Scansion .\n",
    "    \n",
    "    ?Scansion pdp:typeOfScansion <http://postdata.linhd.uned.es/kos/automaticscansion> ;\n",
    "              pdp:hasStanza ?Stanza .\n",
    "    \n",
    "    ?Stanza pdp:stanzaNumber ?StanzaNumber ;\n",
    "            pdp:hasLine ?Line .  \n",
    "  \n",
    "    ?Line pdp:absoluteLineNumber ?absoluteLineNumber ;\n",
    "         pdp:grammaticalStressPattern ?grammaticalStressPattern .\n",
    "    }\n",
    "    ORDER BY ?absoluteLineNumber\n",
    "    \"\"\"\n",
    "    \n",
    "    query = replace_placeholder(query,poem_uri)\n",
    "    sparql_results = sparql(query)\n",
    "    \n",
    "    stress_patterns = []\n",
    "    stanza = []\n",
    "    current_stanza = 0\n",
    "    for binding in sparql_results[\"results\"][\"bindings\"]:\n",
    "        stanza_no = int(binding[\"StanzaNumber\"][\"value\"])\n",
    "        #print(\"this:\" + str(stanza_no))\n",
    "        #print(\"current:\" + str(current_stanza))\n",
    "        \n",
    "        if current_stanza == stanza_no:\n",
    "            stanza.append(binding[\"grammaticalStressPattern\"][\"value\"])\n",
    "        else:\n",
    "            #next stanza\n",
    "            #print(\"next\")\n",
    "            stress_patterns.append(stanza)\n",
    "            #set this as current stanza\n",
    "            current_stanza = stanza_no\n",
    "            #reset the stanza\n",
    "            stanza = []\n",
    "            stanza.append(binding[\"grammaticalStressPattern\"][\"value\"])\n",
    "        \n",
    "    #append the last stanza\n",
    "    stress_patterns.append(stanza)\n",
    "         \n",
    "    return stress_patterns\n",
    "    \n",
    "    "
   ]
  },
  {
   "cell_type": "code",
   "execution_count": 144,
   "id": "1b092d39",
   "metadata": {},
   "outputs": [
    {
     "data": {
      "text/plain": [
       "[['--+---+---+-', '+-+---+-+-+-', '-+-+---+---+-', '-+----+-+-+-'],\n",
       " ['+-+---+---+-', '---+---+-+-', '-+---+---+-', '-+---+---+-'],\n",
       " ['++---+---+-', '-+---+---+-', '+---+-+---+-'],\n",
       " ['-+---++-+-+-', '--+--+-----+-', '+-+---+----+-']]"
      ]
     },
     "execution_count": 144,
     "metadata": {},
     "output_type": "execute_result"
    }
   ],
   "source": [
    "#this does not work\n",
    "get_grammaticalStressPatterns_in_stanza(poem_uri)"
   ]
  },
  {
   "cell_type": "code",
   "execution_count": 145,
   "id": "7ffd77ed",
   "metadata": {},
   "outputs": [],
   "source": [
    "#meter\n",
    "#grammatical stress\n",
    "def get_metricalPatterns_in_stanza(poem_uri:str,scansion:str=\"auto\") -> list:\n",
    "    \"\"\"Get metrical patterns of lines grouped into stanzas\"\"\"\n",
    "    query = \"\"\"\n",
    "    PREFIX pdc: <http://postdata.linhd.uned.es/ontology/postdata-core#>\n",
    "    PREFIX pdp: <http://postdata.linhd.uned.es/ontology/postdata-poeticAnalysis#>\n",
    "\n",
    "    SELECT ?StanzaNumber ?absoluteLineNumber ?metricalPattern FROM <tag:stardog:api:context:local> WHERE {\n",
    "        <http://postdata.linhd.uned.es/resource/pw_carlos-mendoza_noviembre> pdc:isRealisedThrough ?Redaction .\n",
    "    \n",
    "    ?Redaction pdp:wasInputFor ?ScansionProcess .\n",
    "    \n",
    "    ?ScansionProcess pdp:generated ?Scansion .\n",
    "    \n",
    "    ?Scansion pdp:typeOfScansion <http://postdata.linhd.uned.es/kos/automaticscansion> ;\n",
    "              pdp:hasStanza ?Stanza .\n",
    "    \n",
    "    ?Stanza pdp:stanzaNumber ?StanzaNumber ;\n",
    "            pdp:hasLine ?Line .  \n",
    "  \n",
    "      ?Line pdp:absoluteLineNumber ?absoluteLineNumber ;\n",
    "         pdp:patterningMetricalScheme ?metricalPattern .\n",
    "    }\n",
    "    ORDER BY ?absoluteLineNumber\n",
    "    \"\"\"\n",
    "    \n",
    "    query = replace_placeholder(query,poem_uri)\n",
    "    sparql_results = sparql(query)\n",
    "    \n",
    "    metrical_patterns = []\n",
    "    stanza = []\n",
    "    current_stanza = 0\n",
    "    for binding in sparql_results[\"results\"][\"bindings\"]:\n",
    "        stanza_no = int(binding[\"StanzaNumber\"][\"value\"])\n",
    "        #print(\"this:\" + str(stanza_no))\n",
    "        #print(\"current:\" + str(current_stanza))\n",
    "        \n",
    "        if current_stanza == stanza_no:\n",
    "            stanza.append(binding[\"metricalPattern\"][\"value\"])\n",
    "        else:\n",
    "            #next stanza\n",
    "            #print(\"next\")\n",
    "            metrical_patterns.append(stanza)\n",
    "            #set this as current stanza\n",
    "            current_stanza = stanza_no\n",
    "            #reset the stanza\n",
    "            stanza = []\n",
    "            stanza.append(binding[\"metricalPattern\"][\"value\"])\n",
    "        \n",
    "    #append the last stanza\n",
    "    metrical_patterns.append(stanza)\n",
    "         \n",
    "    return metrical_patterns"
   ]
  },
  {
   "cell_type": "code",
   "execution_count": 146,
   "id": "18779274",
   "metadata": {},
   "outputs": [
    {
     "data": {
      "text/plain": [
       "[['--+--+---+-', '+-+--+-+-+-', '+-+--+---+-', '-+---+-+-+-'],\n",
       " ['+-+--+---+-', '---+---+-+-', '-+---+---+-', '-+---+---+-'],\n",
       " ['++---+---+-', '-+---+---+-', '+--+-+---+-'],\n",
       " ['-+--++-+-+-', '--+--+---+-', '+-+--+---+-']]"
      ]
     },
     "execution_count": 146,
     "metadata": {},
     "output_type": "execute_result"
    }
   ],
   "source": [
    "#this does not work\n",
    "get_metricalPatterns_in_stanza(poem_uri)"
   ]
  },
  {
   "cell_type": "code",
   "execution_count": 147,
   "id": "c7b4b189",
   "metadata": {},
   "outputs": [],
   "source": [
    "def get_poem_analysis(poem_uri:str, scansion:str=\"auto\") -> dict:\n",
    "    \"\"\"Returns metrics/analysis of a poem based on a scansion\"\"\"\n",
    "    \n",
    "    analysis = {}\n",
    "    \n",
    "    #based on? should somehow relate to the scansion\n",
    "    scansion_uri = get_source_scansion_uri(poem_uri,scansion)\n",
    "    analysis[\"source\"] = {\"uri\": scansion_uri}\n",
    "    \n",
    "    #Number of Stanzas\n",
    "    analysis[\"numOfStanzas\"] = get_numOfStanzas(poem_uri)\n",
    "    \n",
    "    #Overall number of Lines\n",
    "    analysis[\"numOfLines\"] = get_numOfLines(poem_uri)\n",
    "    \n",
    "    #Overall count of words\n",
    "    analysis[\"numOfWords\"] = get_numOfWords(poem_uri)\n",
    "    \n",
    "    # Number of Lines in Stanzas\n",
    "    analysis[\"numOfLinesInStanzas\"] = get_numOfLines_in_stanzas(poem_uri)\n",
    "    \n",
    "    #rhyme scheme\n",
    "    analysis[\"rhymeSchemesOfStanzas\"] = get_rhymeSchemes(poem_uri)\n",
    "    \n",
    "    #overall count of metrical syllables\n",
    "    analysis[\"numOfMetricalSyllables\"] = get_numOfSyllables(poem_uri, syllable_type=\"metrical\")\n",
    "    \n",
    "    #overall count of grammatical syllables\n",
    "    analysis[\"numOfGrammaticalSyllables\"] = get_numOfSyllables(poem_uri, syllable_type=\"grammatical\")\n",
    "    \n",
    "    #metrical syllables\n",
    "    analysis[\"numOfMetricalSyllablesInStanzas\"] = get_numOfSyllables_in_stanzas(poem_uri, syllable_type=\"metrical\")\n",
    "    \n",
    "    #grammatical syllables in lines of stanzas\n",
    "    analysis[\"numOfGrammaticalSyllablesInStanzas\"] = get_numOfSyllables_in_stanzas(poem_uri, syllable_type=\"grammatical\")\n",
    "    \n",
    "    #or maybe put them together into one dictionary:\n",
    "    # \"numOfSyllablesInStanzas\" : {\"metricalSyllables\" : [[],[]] , \"grammaticalSyllables\" : \"[[],[]]\"  }\n",
    "    \n",
    "    #Words in stanzas\n",
    "    analysis[\"numOfWordsInStanzas\"] = get_numOfWords_in_stanzas(poem_uri)\n",
    "    \n",
    "    #grammatical stress\n",
    "    analysis[\"grammaticalStressPatternsInStanzas\"] = get_grammaticalStressPatterns_in_stanza(poem_uri)\n",
    "    \n",
    "    #meter\n",
    "    analysis[\"metricalPatternsInStanzas\"] = get_metricalPatterns_in_stanza(poem_uri)\n",
    "    \n",
    "    \n",
    "    return analysis"
   ]
  },
  {
   "cell_type": "markdown",
   "id": "7bea1979",
   "metadata": {},
   "source": [
    "Maybe should include some information here; at least the ID/Uri of the scansion, this analysis is based on."
   ]
  },
  {
   "cell_type": "code",
   "execution_count": 148,
   "id": "051ed926",
   "metadata": {
    "scrolled": true
   },
   "outputs": [
    {
     "name": "stdout",
     "output_type": "stream",
     "text": [
      "CPU times: user 20.3 ms, sys: 2.56 ms, total: 22.8 ms\n",
      "Wall time: 3.81 s\n"
     ]
    },
    {
     "data": {
      "text/plain": [
       "{'source': {'uri': 'http://postdata.linhd.uned.es/resource/sc_carlos-mendoza_noviembre_disco2-1_1645475669320137'},\n",
       " 'numOfStanzas': 4,\n",
       " 'numOfLines': 14,\n",
       " 'numOfWords': 87,\n",
       " 'numOfLinesInStanzas': [4, 4, 3, 3],\n",
       " 'rhymeSchemesOfStanzas': ['abba', 'abba', 'a-a', 'a-a'],\n",
       " 'numOfMetricalSyllables': 154,\n",
       " 'numOfGrammaticalSyllables': 166,\n",
       " 'numOfMetricalSyllablesInStanzas': [[11, 11, 11, 11],\n",
       "  [11, 11, 11, 11],\n",
       "  [11, 11, 11],\n",
       "  [11, 11, 11]],\n",
       " 'numOfGrammaticalSyllablesInStanzas': [[12, 12, 13, 12],\n",
       "  [12, 11, 11, 11],\n",
       "  [11, 11, 12],\n",
       "  [12, 13, 13]],\n",
       " 'numOfWordsInStanzas': [[4, 8, 7, 5], [8, 5, 5, 5], [7, 6, 6], [7, 8, 6]],\n",
       " 'grammaticalStressPatternsInStanzas': [['--+---+---+-',\n",
       "   '+-+---+-+-+-',\n",
       "   '-+-+---+---+-',\n",
       "   '-+----+-+-+-'],\n",
       "  ['+-+---+---+-', '---+---+-+-', '-+---+---+-', '-+---+---+-'],\n",
       "  ['++---+---+-', '-+---+---+-', '+---+-+---+-'],\n",
       "  ['-+---++-+-+-', '--+--+-----+-', '+-+---+----+-']],\n",
       " 'metricalPatternsInStanzas': [['--+--+---+-',\n",
       "   '+-+--+-+-+-',\n",
       "   '+-+--+---+-',\n",
       "   '-+---+-+-+-'],\n",
       "  ['+-+--+---+-', '---+---+-+-', '-+---+---+-', '-+---+---+-'],\n",
       "  ['++---+---+-', '-+---+---+-', '+--+-+---+-'],\n",
       "  ['-+--++-+-+-', '--+--+---+-', '+-+--+---+-']]}"
      ]
     },
     "execution_count": 148,
     "metadata": {},
     "output_type": "execute_result"
    }
   ],
   "source": [
    "%%time\n",
    "get_poem_analysis(poem_uri)"
   ]
  },
  {
   "cell_type": "markdown",
   "id": "8b222161",
   "metadata": {},
   "source": [
    "### Sample Data to test with GraphQL"
   ]
  },
  {
   "cell_type": "code",
   "execution_count": 135,
   "id": "8b7ee9b6",
   "metadata": {},
   "outputs": [],
   "source": [
    "def get_poem_with_analysis(poem_uri:str, **kwargs) -> dict:\n",
    "    \"\"\"Returns data on poem with analysis included\n",
    "    \"\"\"\n",
    "    poem_data = get_poem_metadata(poem_uri, **kwargs)\n",
    "    poem_data[\"analysis\"] = get_poem_analysis(poem_uri)\n",
    "    return poem_data"
   ]
  },
  {
   "cell_type": "code",
   "execution_count": 136,
   "id": "72a88ece",
   "metadata": {},
   "outputs": [
    {
     "name": "stdout",
     "output_type": "stream",
     "text": [
      "CPU times: user 21.3 ms, sys: 2.92 ms, total: 24.2 ms\n",
      "Wall time: 3.79 s\n"
     ]
    },
    {
     "data": {
      "text/plain": [
       "{'id': 'pd_c64285d2',\n",
       " 'uri': 'http://postdata.linhd.uned.es/resource/pw_carlos-mendoza_noviembre',\n",
       " 'name': 'carlos-mendoza_noviembre',\n",
       " 'title': 'Noviembre',\n",
       " 'authors': [{'name': 'Carlos Mendoza',\n",
       "   'uri': 'http://postdata.linhd.uned.es/resource/p_carlos-mendoza'}],\n",
       " 'source': 'POSTDATA Poetry Lab',\n",
       " 'sourceUrl': 'http://poetry.linhd.uned.es:3000/en/author/carlos-mendoza/poetic-work/noviembre',\n",
       " 'analysis': {'source': {'uri': 'http://postdata.linhd.uned.es/resource/sc_carlos-mendoza_noviembre_disco2-1_1645475669320137'},\n",
       "  'numOfStanzas': 4,\n",
       "  'numOfLines': 14,\n",
       "  'numOfWords': 87,\n",
       "  'numOfLinesInStanzas': [4, 4, 3, 3],\n",
       "  'rhymeSchemesOfStanzas': [],\n",
       "  'numOfMetricalSyllables': 154,\n",
       "  'numOfGrammaticalSyllables': 166,\n",
       "  'numOfMetricalSyllablesInStanzas': [[11, 11, 11, 11],\n",
       "   [11, 11, 11, 11],\n",
       "   [11, 11, 11],\n",
       "   [11, 11, 11]],\n",
       "  'numOfGrammaticalSyllablesInStanzas': [[12, 12, 13, 12],\n",
       "   [12, 11, 11, 11],\n",
       "   [11, 11, 12],\n",
       "   [12, 13, 13]],\n",
       "  'numOfWordsInStanzas': [[4, 8, 7, 5], [8, 5, 5, 5], [7, 6, 6], [7, 8, 6]],\n",
       "  'grammaticalStressPatternsInStanzas': [[]],\n",
       "  'metricalPatternsInStanzas': [[]]}}"
      ]
     },
     "execution_count": 136,
     "metadata": {},
     "output_type": "execute_result"
    }
   ],
   "source": [
    "%%time\n",
    "get_poem_with_analysis(poem_uri)"
   ]
  },
  {
   "cell_type": "code",
   "execution_count": null,
   "id": "c6c367e4",
   "metadata": {},
   "outputs": [],
   "source": [
    "%%time\n",
    "#with wikidata\n",
    "get_poem_with_analysis(\"http://postdata.linhd.uned.es/resource/pw_lope-de-vega_1-al-sujeto-de-la-dama-que-le-dijo-dios-le-provea\",include_wikidata=True)"
   ]
  },
  {
   "cell_type": "code",
   "execution_count": null,
   "id": "edfe250e",
   "metadata": {},
   "outputs": [],
   "source": [
    "%%time\n",
    "poem_ids = get_poem_uris()"
   ]
  },
  {
   "cell_type": "code",
   "execution_count": null,
   "id": "53375efc",
   "metadata": {},
   "outputs": [],
   "source": [
    "%%time\n",
    "errors = []\n",
    "poems_with_analysis = []\n",
    "for poem_uri in poem_ids:\n",
    "    try:\n",
    "        poem_data = get_poem_with_analysis(poem_uri)\n",
    "        poems_with_analysis.append(poem_data)\n",
    "    except:\n",
    "        errors.append(poem_uri)"
   ]
  },
  {
   "cell_type": "code",
   "execution_count": null,
   "id": "06fe9ae8",
   "metadata": {},
   "outputs": [],
   "source": [
    "with open(\"poems_analysis_example.json\", \"w\", encoding='utf-8') as outfile:\n",
    "    json.dump(poems_with_analysis, outfile, ensure_ascii=False)"
   ]
  },
  {
   "cell_type": "code",
   "execution_count": null,
   "id": "b7d2b90f",
   "metadata": {},
   "outputs": [],
   "source": [
    "len(errors)"
   ]
  },
  {
   "cell_type": "markdown",
   "id": "98fca053",
   "metadata": {},
   "source": [
    "#### Testing to filter these data"
   ]
  },
  {
   "cell_type": "code",
   "execution_count": null,
   "id": "ddbc6b7a",
   "metadata": {},
   "outputs": [],
   "source": [
    "%%time\n",
    "#filter for poems with 4 Stanzas\n",
    "filtered = list(filter(lambda item: item[\"analysis\"][\"numOfStanzas\"] == 4 , poems_with_analysis))"
   ]
  },
  {
   "cell_type": "code",
   "execution_count": null,
   "id": "e05a29d4",
   "metadata": {},
   "outputs": [],
   "source": [
    "len(filtered)"
   ]
  },
  {
   "cell_type": "code",
   "execution_count": null,
   "id": "88b08ad2",
   "metadata": {},
   "outputs": [],
   "source": [
    "filtered[0]"
   ]
  },
  {
   "cell_type": "code",
   "execution_count": null,
   "id": "04dcc8fd",
   "metadata": {},
   "outputs": [],
   "source": [
    "%%time\n",
    "\n",
    "#filter for sonnet stanza structure\n",
    "filtered = list(filter(lambda item: item[\"analysis\"][\"numOfLinesInStanzas\"] == [4,4,3,3] , poems_with_analysis))"
   ]
  },
  {
   "cell_type": "code",
   "execution_count": null,
   "id": "26ca7e6a",
   "metadata": {},
   "outputs": [],
   "source": [
    "len(filtered)"
   ]
  },
  {
   "cell_type": "code",
   "execution_count": null,
   "id": "87bc9502",
   "metadata": {},
   "outputs": [],
   "source": [
    "filtered[0]"
   ]
  },
  {
   "cell_type": "code",
   "execution_count": null,
   "id": "ed5e604d",
   "metadata": {},
   "outputs": [],
   "source": [
    "%%time\n",
    "#Petrarca\n",
    "filtered = list(filter(lambda item: item[\"analysis\"][\"rhymeSchemesOfStanzas\"] == ['abba', 'abba', 'cdc', 'dcd'] , poems_with_analysis))"
   ]
  },
  {
   "cell_type": "code",
   "execution_count": null,
   "id": "22f0349d",
   "metadata": {},
   "outputs": [],
   "source": [
    "len(filtered)"
   ]
  },
  {
   "cell_type": "code",
   "execution_count": null,
   "id": "7c5e814c",
   "metadata": {},
   "outputs": [],
   "source": [
    "filtered = list(filter(lambda item: item[\"analysis\"][\"rhymeSchemesOfStanzas\"] == ['abba', 'abba', '---', '---'] , poems_with_analysis))"
   ]
  },
  {
   "cell_type": "code",
   "execution_count": null,
   "id": "74932c80",
   "metadata": {},
   "outputs": [],
   "source": [
    "len(filtered)"
   ]
  },
  {
   "cell_type": "code",
   "execution_count": null,
   "id": "e422dff3",
   "metadata": {},
   "outputs": [],
   "source": [
    "#4 hebiger Jambus irgendwo in der ersten strophe\n",
    "filtered = list(filter(lambda item: \"-+-+-+-+-\" in item[\"analysis\"][\"metricalPatternsInStanzas\"][0] , poems_with_analysis))"
   ]
  },
  {
   "cell_type": "code",
   "execution_count": null,
   "id": "49b8a6b7",
   "metadata": {},
   "outputs": [],
   "source": [
    "len(filtered)"
   ]
  },
  {
   "cell_type": "code",
   "execution_count": null,
   "id": "6b06b658",
   "metadata": {},
   "outputs": [],
   "source": [
    "filtered"
   ]
  }
 ],
 "metadata": {
  "kernelspec": {
   "display_name": "Python 3 (ipykernel)",
   "language": "python",
   "name": "python3"
  },
  "language_info": {
   "codemirror_mode": {
    "name": "ipython",
    "version": 3
   },
   "file_extension": ".py",
   "mimetype": "text/x-python",
   "name": "python",
   "nbconvert_exporter": "python",
   "pygments_lexer": "ipython3",
   "version": "3.9.12"
  }
 },
 "nbformat": 4,
 "nbformat_minor": 5
}
