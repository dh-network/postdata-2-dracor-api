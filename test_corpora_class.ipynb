{
 "cells": [
  {
   "cell_type": "code",
   "execution_count": 1,
   "id": "ef90cd20",
   "metadata": {},
   "outputs": [],
   "source": [
    "from sparql import DB"
   ]
  },
  {
   "cell_type": "code",
   "execution_count": 2,
   "id": "87f51191",
   "metadata": {},
   "outputs": [],
   "source": [
    "from pd_corpora import PostdataCorpora"
   ]
  },
  {
   "cell_type": "code",
   "execution_count": 3,
   "id": "ec6a921b",
   "metadata": {},
   "outputs": [],
   "source": [
    "import json"
   ]
  },
  {
   "cell_type": "code",
   "execution_count": 4,
   "id": "9f39458d",
   "metadata": {},
   "outputs": [],
   "source": [
    "# config_file = \"config.local.json\"\n",
    "config_file = \"config.poetrylab.json\""
   ]
  },
  {
   "cell_type": "code",
   "execution_count": 5,
   "id": "3ad73801",
   "metadata": {},
   "outputs": [],
   "source": [
    "with open(config_file) as f:\n",
    "    config = json.load(f)"
   ]
  },
  {
   "cell_type": "code",
   "execution_count": 6,
   "id": "04c61712",
   "metadata": {},
   "outputs": [],
   "source": [
    "# create the connection using the DB class\n",
    "db = DB(\n",
    "    triplestore=\"stardog\",\n",
    "    protocol=config[\"server\"][\"protocol\"],\n",
    "    url=config[\"server\"][\"url\"],\n",
    "    port=config[\"server\"][\"port\"],\n",
    "    username=config[\"server\"][\"credentials\"][\"user\"],\n",
    "    password=config[\"server\"][\"credentials\"][\"password\"],\n",
    "    database=config[\"server\"][\"database\"])"
   ]
  },
  {
   "cell_type": "code",
   "execution_count": 7,
   "id": "11c7637d",
   "metadata": {},
   "outputs": [],
   "source": [
    "collection = PostdataCorpora(database=db)"
   ]
  },
  {
   "cell_type": "code",
   "execution_count": 8,
   "id": "acd3c6de",
   "metadata": {},
   "outputs": [
    {
     "data": {
      "text/plain": [
       "[{'name': 'postdata',\n",
       "  'title': 'POSTDATA Corpus',\n",
       "  'description': 'POSTDATA Knowledge Graph of Poetry. See https://postdata.linhd.uned.es'}]"
      ]
     },
     "execution_count": 8,
     "metadata": {},
     "output_type": "execute_result"
    }
   ],
   "source": [
    "collection.list_corpora()"
   ]
  },
  {
   "cell_type": "code",
   "execution_count": 9,
   "id": "3cd36e46",
   "metadata": {},
   "outputs": [
    {
     "data": {
      "text/plain": [
       "[{'name': 'postdata',\n",
       "  'title': 'POSTDATA Corpus',\n",
       "  'description': 'POSTDATA Knowledge Graph of Poetry. See https://postdata.linhd.uned.es',\n",
       "  'metrics': {'poems': 10071,\n",
       "   'authors': 1192,\n",
       "   'stanzas': 81122,\n",
       "   'verses': 544498,\n",
       "   'words': 2988230,\n",
       "   'grammaticalSyllables': 2116388,\n",
       "   'metricalSyllables': 1259036}}]"
      ]
     },
     "execution_count": 9,
     "metadata": {},
     "output_type": "execute_result"
    }
   ],
   "source": [
    "collection.list_corpora(include_metrics=True)"
   ]
  },
  {
   "cell_type": "code",
   "execution_count": null,
   "id": "5dd1eeee",
   "metadata": {},
   "outputs": [],
   "source": []
  }
 ],
 "metadata": {
  "kernelspec": {
   "display_name": "Python 3 (ipykernel)",
   "language": "python",
   "name": "python3"
  },
  "language_info": {
   "codemirror_mode": {
    "name": "ipython",
    "version": 3
   },
   "file_extension": ".py",
   "mimetype": "text/x-python",
   "name": "python",
   "nbconvert_exporter": "python",
   "pygments_lexer": "ipython3",
   "version": "3.9.12"
  }
 },
 "nbformat": 4,
 "nbformat_minor": 5
}
